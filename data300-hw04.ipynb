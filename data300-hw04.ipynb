{
 "cells": [
  {
   "cell_type": "markdown",
   "metadata": {},
   "source": [
    "# Data 300: Statistical and Machine Learning (Fall 2025)\n"
   ]
  },
  {
   "cell_type": "markdown",
   "metadata": {},
   "source": [
    "# Homework 4: Classification: Logistics Regression\n",
    "\n",
    "<font color='red'>**Due Date and Time:** 10:30am on Wednesday, 10/1/2025 </font>\n",
    "---\n",
    "Enter your name in the markdown cell below."
   ]
  },
  {
   "cell_type": "markdown",
   "metadata": {},
   "source": [
    "# Name: Thao "
   ]
  },
  {
   "cell_type": "code",
   "execution_count": 1,
   "metadata": {},
   "outputs": [
    {
     "data": {
      "text/html": [
       "<style>\n",
       "blockquote { background: #AEDE94; }\n",
       "h1 { \n",
       "    padding-top: 25px;\n",
       "    padding-bottom: 25px;\n",
       "    text-align: left; \n",
       "    padding-left: 10px;\n",
       "    background-color: #DDDDDD; \n",
       "    color: black;\n",
       "}\n",
       "h2 { \n",
       "    padding-top: 10px;\n",
       "    padding-bottom: 10px;\n",
       "    text-align: left; \n",
       "    padding-left: 5px;\n",
       "    background-color: #EEEEEE; \n",
       "    color: black;\n",
       "}\n",
       "\n",
       "div.exercise {\n",
       "\tbackground-color: #ffcccc;\n",
       "\tborder-color: #E9967A; \t\n",
       "\tborder-left: 5px solid #800080; \n",
       "\tpadding: 0.5em;\n",
       "}\n",
       "\n",
       "div.exercise-r {\n",
       "\tbackground-color: #fce8e8;\n",
       "\tborder-color: #E9967A; \t\n",
       "\tborder-left: 5px solid #800080; \n",
       "\tpadding: 0.5em;\n",
       "}\n",
       "\n",
       "\n",
       "span.sub-q {\n",
       "\tfont-weight: bold;\n",
       "}\n",
       "div.theme {\n",
       "\tbackground-color: #DDDDDD;\n",
       "\tborder-color: #E9967A; \t\n",
       "\tborder-left: 5px solid #800080; \n",
       "\tpadding: 0.5em;\n",
       "\tfont-size: 18pt;\n",
       "}\n",
       "div.gc { \n",
       "\tbackground-color: #AEDE94;\n",
       "\tborder-color: #E9967A; \t \n",
       "\tborder-left: 5px solid #800080; \n",
       "\tpadding: 0.5em;\n",
       "\tfont-size: 12pt;\n",
       "}\n",
       "p.q1 { \n",
       "    padding-top: 5px;\n",
       "    padding-bottom: 5px;\n",
       "    text-align: left; \n",
       "    padding-left: 5px;\n",
       "    background-color: #EEEEEE; \n",
       "    color: black;\n",
       "}\n",
       "header {\n",
       "   padding-top: 35px;\n",
       "    padding-bottom: 35px;\n",
       "    text-align: left; \n",
       "    padding-left: 10px;\n",
       "    background-color: #DDDDDD; \n",
       "    color: black;\n",
       "}\n",
       "</style>\n",
       "\n"
      ],
      "text/plain": [
       "<IPython.core.display.HTML object>"
      ]
     },
     "execution_count": 1,
     "metadata": {},
     "output_type": "execute_result"
    }
   ],
   "source": [
    "## RUN THIS CELL TO GET THE RIGHT FORMATTING\n",
    "import requests\n",
    "from IPython.core.display import HTML\n",
    "styles = requests.get(\"https://raw.githubusercontent.com/Harvard-IACS/2018-CS109A/master/content/styles/cs109.css\").text\n",
    "HTML(styles)"
   ]
  },
  {
   "cell_type": "markdown",
   "metadata": {},
   "source": [
    "# Tasks\n",
    "\n",
    "- Review pages 111-123 in the Course Notes.\n",
    "- Complete the **(1) Logistics Regression Modeling** chapter of the **Introduction to Regression with statsmodels in Python** course, **(2) Multiple Logistics Regression** chapter of the **Intermediate Regression with statsmodels in Python** course, and **(3) Classification** chapter of the **Supervised Learning with scikit Learn** course on DataCamp.\n",
    "- E-mail me your completed Jupyter notebook."
   ]
  },
  {
   "cell_type": "markdown",
   "metadata": {},
   "source": [
    "### Titanic Dataset Overview\n",
    "\n",
    "The Titanic was a British passenger liner that struck an iceberg on its maiden voyage from Southampton to New York City on April 15, 1912, and sank in the North Atlantic. Of the roughly 2,200 people on board, more than 1,500 lost their lives, making it one of the deadliest peacetime maritime disasters in history.  The Titanic dataset contains information on **891 passengers** of the RMS Titanic, with the goal of predicting who survived the disaster.  \n",
    "It has **12 columns**:\n",
    "\n",
    "- **PassengerId**: Unique ID for each passenger  \n",
    "- **Survived**: Target variable (0 = did not survive, 1 = survived)  \n",
    "- **Pclass**: Passenger ticket class (1 = 1st, 2 = 2nd, 3 = 3rd)  \n",
    "- **Name**: Passenger’s full name (often used for extracting titles like Mr, Mrs, Miss, etc.)  \n",
    "- **Sex**: Male or female  \n",
    "- **Age**: Age in years (some values are missing)  \n",
    "- **SibSp**: Number of siblings/spouses aboard  \n",
    "- **Parch**: Number of parents/children aboard  \n",
    "- **Ticket**: Ticket number (not directly numeric, may be used for feature engineering)  \n",
    "- **Fare**: Fare paid for ticket  \n",
    "- **Cabin**: Cabin number (mostly missing values)  \n",
    "- **Embarked**: Port of embarkation (C = Cherbourg, Q = Queenstown, S = Southampton; some missing values)"
   ]
  },
  {
   "cell_type": "markdown",
   "metadata": {},
   "source": [
    "## Load the Titanic Dataset\n",
    "\n",
    "In the data directory, you will find the csv file for the Titanic dataset: `Titanic.csv`.\n",
    "\n",
    "Run the code cell below, which does the following:\n",
    "- Imports the libraries that we will be using in this notebook.\n",
    "- Sets `datadir = \"hw03Data\"` and uses the `os.path.join(.)` function to create a full path to the data.\n",
    "- Reads in the file `Titanic.csv` and assigned it to the data frame `titanic_df`.<br>"
   ]
  },
  {
   "cell_type": "code",
   "execution_count": 2,
   "metadata": {},
   "outputs": [],
   "source": [
    "import pandas as pd\n",
    "import numpy as np\n",
    "import matplotlib.pyplot as plt\n",
    "import seaborn as sns\n",
    "import statsmodels.api as sm\n",
    "import os\n",
    "\n",
    "from statsmodels.formula.api import logit"
   ]
  },
  {
   "cell_type": "code",
   "execution_count": 3,
   "metadata": {},
   "outputs": [],
   "source": [
    "datadir = \"hw04Data\"\n",
    "titanic_path = os.path.join(datadir, \"Titanic.csv\")\n",
    "\n",
    "titanic_df = pd.read_csv(titanic_path)"
   ]
  },
  {
   "cell_type": "markdown",
   "metadata": {},
   "source": [
    "<div class=\"exercise\"><b>Exercise 1: Explore the Titantic Data</b></div>\n",
    "\n",
    "In the code cell below, write code to print the shape of the dataframe.\n",
    "\n",
    "Below is the output from my solution:\n",
    "<code>\n",
    "(891, 12)\n",
    "</code>"
   ]
  },
  {
   "cell_type": "code",
   "execution_count": 4,
   "metadata": {},
   "outputs": [
    {
     "name": "stdout",
     "output_type": "stream",
     "text": [
      "(891, 12)\n"
     ]
    }
   ],
   "source": [
    "print(titanic_df.shape)"
   ]
  },
  {
   "cell_type": "markdown",
   "metadata": {},
   "source": [
    "This looks correct as we have 891 rows and 12 columns as expected.\n",
    "\n",
    "**In the code cell below, write code to print the head of the dataframe** so that we can peek at what the data looks like."
   ]
  },
  {
   "cell_type": "code",
   "execution_count": 5,
   "metadata": {},
   "outputs": [
    {
     "data": {
      "text/html": [
       "<div>\n",
       "<style scoped>\n",
       "    .dataframe tbody tr th:only-of-type {\n",
       "        vertical-align: middle;\n",
       "    }\n",
       "\n",
       "    .dataframe tbody tr th {\n",
       "        vertical-align: top;\n",
       "    }\n",
       "\n",
       "    .dataframe thead th {\n",
       "        text-align: right;\n",
       "    }\n",
       "</style>\n",
       "<table border=\"1\" class=\"dataframe\">\n",
       "  <thead>\n",
       "    <tr style=\"text-align: right;\">\n",
       "      <th></th>\n",
       "      <th>PassengerId</th>\n",
       "      <th>Survived</th>\n",
       "      <th>Pclass</th>\n",
       "      <th>Name</th>\n",
       "      <th>Sex</th>\n",
       "      <th>Age</th>\n",
       "      <th>SibSp</th>\n",
       "      <th>Parch</th>\n",
       "      <th>Ticket</th>\n",
       "      <th>Fare</th>\n",
       "      <th>Cabin</th>\n",
       "      <th>Embarked</th>\n",
       "    </tr>\n",
       "  </thead>\n",
       "  <tbody>\n",
       "    <tr>\n",
       "      <th>0</th>\n",
       "      <td>1</td>\n",
       "      <td>0</td>\n",
       "      <td>3</td>\n",
       "      <td>Braund, Mr. Owen Harris</td>\n",
       "      <td>male</td>\n",
       "      <td>22.0</td>\n",
       "      <td>1</td>\n",
       "      <td>0</td>\n",
       "      <td>A/5 21171</td>\n",
       "      <td>7.2500</td>\n",
       "      <td>NaN</td>\n",
       "      <td>S</td>\n",
       "    </tr>\n",
       "    <tr>\n",
       "      <th>1</th>\n",
       "      <td>2</td>\n",
       "      <td>1</td>\n",
       "      <td>1</td>\n",
       "      <td>Cumings, Mrs. John Bradley (Florence Briggs Th...</td>\n",
       "      <td>female</td>\n",
       "      <td>38.0</td>\n",
       "      <td>1</td>\n",
       "      <td>0</td>\n",
       "      <td>PC 17599</td>\n",
       "      <td>71.2833</td>\n",
       "      <td>C85</td>\n",
       "      <td>C</td>\n",
       "    </tr>\n",
       "    <tr>\n",
       "      <th>2</th>\n",
       "      <td>3</td>\n",
       "      <td>1</td>\n",
       "      <td>3</td>\n",
       "      <td>Heikkinen, Miss. Laina</td>\n",
       "      <td>female</td>\n",
       "      <td>26.0</td>\n",
       "      <td>0</td>\n",
       "      <td>0</td>\n",
       "      <td>STON/O2. 3101282</td>\n",
       "      <td>7.9250</td>\n",
       "      <td>NaN</td>\n",
       "      <td>S</td>\n",
       "    </tr>\n",
       "    <tr>\n",
       "      <th>3</th>\n",
       "      <td>4</td>\n",
       "      <td>1</td>\n",
       "      <td>1</td>\n",
       "      <td>Futrelle, Mrs. Jacques Heath (Lily May Peel)</td>\n",
       "      <td>female</td>\n",
       "      <td>35.0</td>\n",
       "      <td>1</td>\n",
       "      <td>0</td>\n",
       "      <td>113803</td>\n",
       "      <td>53.1000</td>\n",
       "      <td>C123</td>\n",
       "      <td>S</td>\n",
       "    </tr>\n",
       "    <tr>\n",
       "      <th>4</th>\n",
       "      <td>5</td>\n",
       "      <td>0</td>\n",
       "      <td>3</td>\n",
       "      <td>Allen, Mr. William Henry</td>\n",
       "      <td>male</td>\n",
       "      <td>35.0</td>\n",
       "      <td>0</td>\n",
       "      <td>0</td>\n",
       "      <td>373450</td>\n",
       "      <td>8.0500</td>\n",
       "      <td>NaN</td>\n",
       "      <td>S</td>\n",
       "    </tr>\n",
       "  </tbody>\n",
       "</table>\n",
       "</div>"
      ],
      "text/plain": [
       "   PassengerId  Survived  Pclass  \\\n",
       "0            1         0       3   \n",
       "1            2         1       1   \n",
       "2            3         1       3   \n",
       "3            4         1       1   \n",
       "4            5         0       3   \n",
       "\n",
       "                                                Name     Sex   Age  SibSp  \\\n",
       "0                            Braund, Mr. Owen Harris    male  22.0      1   \n",
       "1  Cumings, Mrs. John Bradley (Florence Briggs Th...  female  38.0      1   \n",
       "2                             Heikkinen, Miss. Laina  female  26.0      0   \n",
       "3       Futrelle, Mrs. Jacques Heath (Lily May Peel)  female  35.0      1   \n",
       "4                           Allen, Mr. William Henry    male  35.0      0   \n",
       "\n",
       "   Parch            Ticket     Fare Cabin Embarked  \n",
       "0      0         A/5 21171   7.2500   NaN        S  \n",
       "1      0          PC 17599  71.2833   C85        C  \n",
       "2      0  STON/O2. 3101282   7.9250   NaN        S  \n",
       "3      0            113803  53.1000  C123        S  \n",
       "4      0            373450   8.0500   NaN        S  "
      ]
     },
     "execution_count": 5,
     "metadata": {},
     "output_type": "execute_result"
    }
   ],
   "source": [
    "titanic_df.head()"
   ]
  },
  {
   "cell_type": "markdown",
   "metadata": {},
   "source": [
    "**In the code cell below, write code to print out the data types of the columns.**\n",
    "\n",
    "Below is the output from my solution.\n",
    "<code>\n",
    "PassengerId      int64\n",
    "Survived         int64\n",
    "Pclass           int64\n",
    "Name            object\n",
    "Sex             object\n",
    "Age            float64\n",
    "SibSp            int64\n",
    "Parch            int64\n",
    "Ticket          object\n",
    "Fare           float64\n",
    "Cabin           object\n",
    "Embarked        object\n",
    "dtype: object\n",
    "</code>"
   ]
  },
  {
   "cell_type": "code",
   "execution_count": 6,
   "metadata": {},
   "outputs": [
    {
     "name": "stdout",
     "output_type": "stream",
     "text": [
      "PassengerId      int64\n",
      "Survived         int64\n",
      "Pclass           int64\n",
      "Name            object\n",
      "Sex             object\n",
      "Age            float64\n",
      "SibSp            int64\n",
      "Parch            int64\n",
      "Ticket          object\n",
      "Fare           float64\n",
      "Cabin           object\n",
      "Embarked        object\n",
      "dtype: object\n"
     ]
    }
   ],
   "source": [
    "print(titanic_df.dtypes)"
   ]
  },
  {
   "cell_type": "markdown",
   "metadata": {},
   "source": [
    "<div class=\"exercise\"><b>Exercise 2: Converting Object Columns to Categorical</b></div>\n",
    "\n",
    "When we load the Titanic dataset, Pandas assigns data types to each column.  Some columns are detected as `object`, which means they are stored as strings.  \n",
    "\n",
    "For logistic regression (and most machine learning models), it is better to convert these to **categorical variables** so that the model can understand them properly.\n",
    "\n",
    "⚠️ The `Name` column is also an `object`, but it does not represent a category. Instead, it’s unique text that we might later transform (for example, by extracting titles like “Mr.”, “Mrs.”, “Miss”).  So for now, we will leave `Name` as is.\n",
    "\n",
    "**In the code cell below, write code to**\n",
    "- Convert `Sex`, `Cabin`, `Ticket`, `Embarked` to categorical.\n",
    "- Print the updated variable types.\n",
    "\n",
    "The output from my solution is:\n",
    "<code>\n",
    "PassengerId       int64\n",
    "Survived          int64\n",
    "Pclass            int64\n",
    "Name             object\n",
    "Sex            category\n",
    "Age             float64\n",
    "SibSp             int64\n",
    "Parch             int64\n",
    "Ticket         category\n",
    "Fare            float64\n",
    "Cabin          category\n",
    "Embarked       category\n",
    "dtype: object\n",
    "</code>"
   ]
  },
  {
   "cell_type": "code",
   "execution_count": 7,
   "metadata": {},
   "outputs": [
    {
     "name": "stdout",
     "output_type": "stream",
     "text": [
      "PassengerId       int64\n",
      "Survived          int64\n",
      "Pclass            int64\n",
      "Name             object\n",
      "Sex            category\n",
      "Age             float64\n",
      "SibSp             int64\n",
      "Parch             int64\n",
      "Ticket         category\n",
      "Fare            float64\n",
      "Cabin          category\n",
      "Embarked       category\n",
      "dtype: object\n"
     ]
    }
   ],
   "source": [
    "cat_vars = [\"Sex\", \"Cabin\", \"Ticket\", \"Embarked\"]\n",
    "\n",
    "for col in cat_vars:\n",
    "    titanic_df[col] = titanic_df[col].astype(\"category\")\n",
    "\n",
    "print(titanic_df.dtypes) "
   ]
  },
  {
   "cell_type": "markdown",
   "metadata": {},
   "source": [
    "<div class=\"exercise\"><b>Exercise 3: Checking for Missing Values and Dropping Rows</b></div>\n",
    "\n",
    "Before we start modeling, it’s important to check if our dataset has any missing values.  Missing values can cause errors in logistic regression unless we handle them (for example, by filling in with an average or dropping rows).\n",
    "\n",
    "**In the code cell below, write code to print the number of missing values**\n",
    "\n",
    "The output from my solution is below.\n",
    "<code>\n",
    "PassengerId      0\n",
    "Survived         0\n",
    "Pclass           0\n",
    "Name             0\n",
    "Sex              0\n",
    "Age            177\n",
    "SibSp            0\n",
    "Parch            0\n",
    "Ticket           0\n",
    "Fare             0\n",
    "Cabin          687\n",
    "Embarked         2\n",
    "dtype: int64\n",
    "</code>"
   ]
  },
  {
   "cell_type": "code",
   "execution_count": 8,
   "metadata": {},
   "outputs": [
    {
     "name": "stdout",
     "output_type": "stream",
     "text": [
      "PassengerId      0\n",
      "Survived         0\n",
      "Pclass           0\n",
      "Name             0\n",
      "Sex              0\n",
      "Age            177\n",
      "SibSp            0\n",
      "Parch            0\n",
      "Ticket           0\n",
      "Fare             0\n",
      "Cabin          687\n",
      "Embarked         2\n",
      "dtype: int64\n"
     ]
    }
   ],
   "source": [
    "print(titanic_df.isna().sum())"
   ]
  },
  {
   "cell_type": "markdown",
   "metadata": {},
   "source": [
    "### Dropping and Handling Certain Columns\n",
    "\n",
    "Before we can use our data for logistic regression, we need to think carefully about which columns are useful and which are not.\n",
    "\n",
    "1. **Cabin has too many missing values**  \n",
    "   - More than 75% of the entries in the `Cabin` column are missing.  \n",
    "   - With so much missing data, it is not reliable to keep this variable.  \n",
    "   - For this reason, we will **drop `Cabin` entirely**.\n",
    "\n",
    "2. **Dropping some other variables**  \n",
    "   - `PassengerId`: This is just a unique identifier. It does not provide any information that could help predict survival.  \n",
    "   - `Ticket`: These are mostly unique strings and do not generalize well for prediction.   \n",
    "   - We will keep `Name` for now, because while it is not directly useful as a predictor, we might later extract useful features from it (such as the passenger's title: Mr., Mrs., Miss, etc.).\n",
    "\n",
    "3. **Handling other missing values**  \n",
    "   - The `Age` column has missing values, but since it is an important predictor, we will not drop it.  \n",
    "   - The `Embarked` column has only a couple of missing values.  \n",
    "   - Later, we will handle these missing values using **imputation** (filling them in with reasonable values, such as the median for `Age` and the most common value for `Embarked`).\n",
    "\n",
    "**In the code cell below, write code to (a) drop the `PassengerID`, `Ticket`, and `Cabin` columns, and (b) print out the names of the remaining columns**\n",
    "\n",
    "Below is the output from my solution:\n",
    "<code>\n",
    "['Survived', 'Pclass', 'Name', 'Sex', 'Age', 'SibSp', 'Parch', 'Fare', 'Embarked']\n",
    "</code>\n"
   ]
  },
  {
   "cell_type": "code",
   "execution_count": 9,
   "metadata": {},
   "outputs": [],
   "source": [
    "titanic_df = titanic_df.drop(columns=[\"PassengerId\", \"Ticket\", \"Cabin\"])"
   ]
  },
  {
   "cell_type": "code",
   "execution_count": 10,
   "metadata": {},
   "outputs": [
    {
     "name": "stdout",
     "output_type": "stream",
     "text": [
      "['Survived', 'Pclass', 'Name', 'Sex', 'Age', 'SibSp', 'Parch', 'Fare', 'Embarked']\n"
     ]
    }
   ],
   "source": [
    "print(titanic_df.columns.tolist())"
   ]
  },
  {
   "cell_type": "markdown",
   "metadata": {},
   "source": [
    "<div class=\"exercise\"><b>Exercise 4: Handling Missing Values in `Embarked`</b></div>\n",
    "\n",
    "The `Embarked` column has a couple of missing values. There are two main ways we could deal with them:\n",
    "\n",
    "- **Option 1: Drop the rows.**  \n",
    "  Since there are only two missing values, we could simply remove those rows from the dataset.  However, this means losing information unnecessarily.\n",
    "\n",
    "- **Option 2: Impute (fill in) the missing values.**  \n",
    "  For categorical variables like `Embarked`, a common approach is to replace missing values with the **mode** — the most frequent category.  \n",
    "  This makes sense here because most passengers embarked from the same port (`S` for Southampton), so it is reasonable to assume the missing ones also came from there.\n",
    "\n",
    "👉 We will use **Option 2**.  \n",
    "\n",
    "**In the code cell below, write Python code to:**\n",
    "1. Extract the mode of the `Embarked` column.  \n",
    "2. Print it to see which value occurs most frequently.\n",
    "\n",
    "Below is the output from my solution (make sure that your output matches exactly):\n",
    "<code>\n",
    "Embarked mode =  S\n",
    "</code>"
   ]
  },
  {
   "cell_type": "code",
   "execution_count": 11,
   "metadata": {},
   "outputs": [
    {
     "name": "stdout",
     "output_type": "stream",
     "text": [
      "Embarked mode = S\n"
     ]
    }
   ],
   "source": [
    "Embarked_mode = titanic_df['Embarked'].mode()[0]\n",
    "print(\"Embarked mode =\", Embarked_mode)"
   ]
  },
  {
   "cell_type": "markdown",
   "metadata": {},
   "source": [
    "### Replacing Missing Values in `Embarked`\n",
    "\n",
    "Now that we know the most common value (the mode) of the `Embarked` column,  \n",
    "we can use it to replace the missing values.\n",
    "\n",
    "**In the code cell below, use the `.fillna()` method to replace the missing values in `Embarked` with the mode you found in the previous step. Then print the counts of each category in `Embarked` using the `.value_counts()` method.**\n",
    "\n",
    "The output from my solution is:\n",
    "<code>\n",
    "Embarked\n",
    "S    646\n",
    "C    168\n",
    "Q     77\n",
    "Name: count, dtype: int64\n",
    "</code>"
   ]
  },
  {
   "cell_type": "code",
   "execution_count": 12,
   "metadata": {},
   "outputs": [
    {
     "name": "stdout",
     "output_type": "stream",
     "text": [
      "Embarked\n",
      "S    646\n",
      "C    168\n",
      "Q     77\n",
      "Name: count, dtype: int64\n"
     ]
    }
   ],
   "source": [
    "titanic_df['Embarked'] = titanic_df['Embarked'].fillna(Embarked_mode)\n",
    "print(titanic_df['Embarked'].value_counts())"
   ]
  },
  {
   "cell_type": "markdown",
   "metadata": {},
   "source": [
    "<div class=\"exercise\"><b>Exercise 5: Feature Engineering: Extracting Titles from `Name`</b></div>\n",
    "\n",
    "Before we deal with the missing values in the `Age` column, we can try to improve our dataset by creating **new features** from existing ones. This process is called **feature engineering**.\n",
    "\n",
    "**What is feature engineering?**  \n",
    "Feature engineering is when we transform or create new variables from the data we already have in order to help our model perform better. Good features often make a bigger difference than choosing a more complex algorithm.\n",
    "\n",
    "**Why look at `Name`?**  \n",
    "At first glance, `Name` seems useless because it is mostly unique for every passenger.  \n",
    "However, if we look carefully, each name also contains a **title** (e.g., \"Mr.\", \"Mrs.\", \"Miss.\", \"Dr.\", \"Master.\").  \n",
    "\n",
    "- Titles can provide important information about a person’s **age, gender, and social status**.  \n",
    "- For example:  \n",
    "  - \"Master\" usually refers to a young boy.  \n",
    "  - \"Mrs.\" and \"Miss\" distinguish between married and unmarried women.  \n",
    "  - \"Dr.\" or \"Rev.\" might indicate special social roles.  \n",
    "\n",
    "This extra information can help our model, especially when predicting survival and when filling in missing `Age` values.\n",
    "\n",
    "**How does the code work?**  \n",
    "- We use the `.str.extract()` method from Pandas, which lets us apply a regular expression (regex) to text.  \n",
    "- The regex `r' ([A-Za-z]+)\\.'` looks for a space, then one or more letters, followed by a period.  \n",
    "- This pattern matches the titles in the `Name` column.  \n",
    "- We then create a new column called `Title` to store the extracted values.\n",
    "\n",
    "**Run the code cell below which creates this new feature and displays the resulting categories and their frequencies.**\n"
   ]
  },
  {
   "cell_type": "code",
   "execution_count": 13,
   "metadata": {},
   "outputs": [
    {
     "name": "stdout",
     "output_type": "stream",
     "text": [
      "Title\n",
      "Mr          517\n",
      "Miss        182\n",
      "Mrs         125\n",
      "Master       40\n",
      "Dr            7\n",
      "Rev           6\n",
      "Mlle          2\n",
      "Major         2\n",
      "Col           2\n",
      "Countess      1\n",
      "Capt          1\n",
      "Ms            1\n",
      "Sir           1\n",
      "Lady          1\n",
      "Mme           1\n",
      "Don           1\n",
      "Jonkheer      1\n",
      "Name: count, dtype: int64\n"
     ]
    }
   ],
   "source": [
    "# Extract the title from the Name column using regex\n",
    "titanic_df[\"Title\"] = titanic_df[\"Name\"].str.extract(r' ([A-Za-z]+)\\.', expand=False)\n",
    "\n",
    "# Print the number of categories\n",
    "print(titanic_df[\"Title\"].value_counts())"
   ]
  },
  {
   "cell_type": "markdown",
   "metadata": {},
   "source": [
    "### Merging Rare Titles into Broader Categories\n",
    "\n",
    "If we look at the different `Title` values we extracted from the `Name` column,  we see that some titles are very common (`Mr`, `Mrs`, `Miss`, `Master`), but many others occur only a handful of times (e.g., `Countess`, `Capt`, `Col`, `Lady`).  \n",
    "\n",
    "This creates a problem:  \n",
    "- Logistic regression will try to create separate categories for each rare title.  \n",
    "- Categories with very few examples add noise, rather than improving prediction.  \n",
    "- A better strategy is to **merge rare titles into broader, more meaningful groups**.\n",
    "\n",
    "**Our plan:**\n",
    "1. Keep the common titles as they are:  \n",
    "   - `Mr`, `Mrs`, `Miss`, `Master`\n",
    "2. Merge alternate spellings:  \n",
    "   - `Mlle` → `Miss`  \n",
    "   - `Mme`, `Ms` → `Mrs`\n",
    "3. Group noble/honorific titles:  \n",
    "   - `Countess`, `Lady`, `Sir`, `Jonkheer`, `Don` → `Royalty`\n",
    "4. Group professional or military titles:  \n",
    "   - `Dr`, `Rev`, `Col`, `Major`, `Capt` → `Officer`\n",
    "\n",
    "This reduces the number of categories, making the model simpler and more robust.\n",
    "\n",
    "---\n",
    "\n",
    "**Your task:** Run the code cell below, which uses a *dictionary mapping* to replace rare titles with these broader groups.**\n",
    "\n",
    "You should get the following output:\n",
    "<code>\n",
    "Title\n",
    "Mr         517\n",
    "Miss       184\n",
    "Mrs        127\n",
    "Master      40\n",
    "Officer     18\n",
    "Royalty      5\n",
    "Name: count, dtype: int64\n",
    "</code>"
   ]
  },
  {
   "cell_type": "code",
   "execution_count": 14,
   "metadata": {},
   "outputs": [
    {
     "name": "stdout",
     "output_type": "stream",
     "text": [
      "Title\n",
      "Mr         517\n",
      "Miss       184\n",
      "Mrs        127\n",
      "Master      40\n",
      "Officer     18\n",
      "Royalty      5\n",
      "Name: count, dtype: int64\n"
     ]
    }
   ],
   "source": [
    "# Define a mapping for rare titles\n",
    "title_mapping = {\n",
    "    \"Mlle\": \"Miss\",\n",
    "    \"Ms\": \"Mrs\",\n",
    "    \"Mme\": \"Mrs\",\n",
    "    \"Countess\": \"Royalty\",\n",
    "    \"Lady\": \"Royalty\",\n",
    "    \"Sir\": \"Royalty\",\n",
    "    \"Jonkheer\": \"Royalty\",\n",
    "    \"Don\": \"Royalty\",\n",
    "    \"Dr\": \"Officer\",\n",
    "    \"Rev\": \"Officer\",\n",
    "    \"Col\": \"Officer\",\n",
    "    \"Major\": \"Officer\",\n",
    "    \"Capt\": \"Officer\"\n",
    "}\n",
    "\n",
    "# Apply the mapping to the Title column\n",
    "titanic_df[\"Title\"] = titanic_df[\"Title\"].replace(title_mapping)\n",
    "\n",
    "# Check the updated titles and their counts\n",
    "print(titanic_df[\"Title\"].value_counts())\n"
   ]
  },
  {
   "cell_type": "markdown",
   "metadata": {},
   "source": [
    "### Results After Merging Titles\n",
    "\n",
    "After grouping the rare titles, our `Title` column now looks much cleaner:\n",
    "\n",
    "- **Mr**: 517  \n",
    "- **Miss**: 184  \n",
    "- **Mrs**: 127  \n",
    "- **Master**: 40  \n",
    "- **Officer**: 18  \n",
    "- **Royalty**: 5  \n",
    "\n",
    "This is a big improvement compared to the messy list we had before.  \n",
    "- We kept the most common and informative categories as they are.  \n",
    "- We reduced all the unusual or rare titles into just two meaningful groups:  \n",
    "  - **Officer** (professional/military roles)  \n",
    "  - **Royalty** (nobility or honorifics)  \n",
    "\n",
    "This makes the dataset easier to work with and gives us a feature (`Title`) that is likely to be useful for predicting survival.\n",
    "\n",
    "Since we’ve now extracted the useful information from the `Name` column, the original `Name` is no longer needed.  \n",
    "\n",
    "---\n",
    "\n",
    "**In the code cell below, write code to drop the `Name` column from the dataset and print the names of the remaining columns.**\n",
    "\n",
    "Below is my output:\n",
    "<code>\n",
    "Index(['Survived', 'Pclass', 'Sex', 'Age', 'SibSp', 'Parch', 'Fare',\n",
    "       'Embarked', 'Title'],\n",
    "      dtype='object')\n",
    "</code>\n"
   ]
  },
  {
   "cell_type": "code",
   "execution_count": 15,
   "metadata": {},
   "outputs": [
    {
     "name": "stdout",
     "output_type": "stream",
     "text": [
      "Index(['Survived', 'Pclass', 'Sex', 'Age', 'SibSp', 'Parch', 'Fare',\n",
      "       'Embarked', 'Title'],\n",
      "      dtype='object')\n"
     ]
    }
   ],
   "source": [
    "titanic_df = titanic_df.drop('Name', axis=1)\n",
    "print(titanic_df.columns)"
   ]
  },
  {
   "cell_type": "markdown",
   "metadata": {},
   "source": [
    "<div class=\"exercise\"><b>Exercise 6: Imputing Missing `Age` Values Using `Title`</b></div>\n",
    "\n",
    "We’ve already seen that the `Age` column has many missing values.  Instead of filling in all missing ages with a single value (like the overall median),  we can do better by taking advantage of the new `Title` column we created.\n",
    "\n",
    "**Why use `Title`?**  \n",
    "- Titles carry strong information about age:\n",
    "  - `Master` usually refers to young boys.\n",
    "  - `Miss` often refers to younger women, while `Mrs` often indicates older women.\n",
    "  - `Mr` is most often adult men.\n",
    "  - `Officer` and `Royalty` are adult roles as well.\n",
    "- By filling missing ages with the **median age of passengers with the same title**, we get a more realistic estimate.\n",
    "\n",
    "This approach is called **grouped imputation**, and it is more accurate than just using a single overall statistic.\n",
    "\n",
    "---\n",
    "\n",
    "**Your task:**  \n",
    "Write code to group the data by `Title` and then calculate the median age for each group.\n",
    "\n",
    "Hints:\n",
    "- Use the **`.groupby(\"Title\")`** method.  \n",
    "- Select the `Age` column after grouping.  \n",
    "- Call **`.median()`** to get the median age for each title.  \n",
    "\n",
    "This will give you a table of median ages, which we’ll use in the next step to fill in missing values.\n",
    "\n",
    "🔗 Helpful Pandas documentation:  \n",
    "- [GroupBy transform](https://pandas.pydata.org/pandas-docs/stable/reference/api/pandas.DataFrame.transform.html)  \n",
    "- [fillna](https://pandas.pydata.org/pandas-docs/stable/reference/api/pandas.DataFrame.fillna.html)  \n",
    "\n",
    "---\n",
    "The output from my code is as follows:\n",
    "<code>\n",
    "Median ages by Title:\n",
    "Title\n",
    "Master      3.5\n",
    "Miss       21.0\n",
    "Mr         30.0\n",
    "Mrs        35.0\n",
    "Officer    50.0\n",
    "Royalty    40.0\n",
    "Name: Age, dtype: float64\n",
    "</code>"
   ]
  },
  {
   "cell_type": "code",
   "execution_count": 16,
   "metadata": {},
   "outputs": [
    {
     "name": "stdout",
     "output_type": "stream",
     "text": [
      "Median ages by Title:\n",
      "Title\n",
      "Master      3.5\n",
      "Miss       21.0\n",
      "Mr         30.0\n",
      "Mrs        35.0\n",
      "Officer    50.0\n",
      "Royalty    40.0\n",
      "Name: Age, dtype: float64\n"
     ]
    }
   ],
   "source": [
    "median_ages = titanic_df.groupby(\"Title\")[\"Age\"].median()\n",
    "print(\"Median ages by Title:\")\n",
    "print(median_ages)"
   ]
  },
  {
   "cell_type": "markdown",
   "metadata": {},
   "source": [
    "### Step 2: Impute Missing `Age` Values by Title\n",
    "\n",
    "Now that we have seen the median ages for each `Title`, we can use them to fill in the missing `Age` values.\n",
    "\n",
    "**Why this works:**  \n",
    "- Passengers with the same title (e.g., `Mr`, `Miss`, `Mrs`, `Master`) tend to fall into similar age ranges.  \n",
    "- Using the **median age by title** gives us a more realistic estimate than just filling with the overall median.\n",
    "\n",
    "**Your task:** Replace the missing values in the `Age` column with the median age for each passenger’s `Title`.\n",
    "\n",
    "Hints to guide you:\n",
    "- Start with `.groupby(\"Title\")` and look at the `Age` column.  \n",
    "- Use `.transform(\"median\")` — this broadcasts the median age for each group back to every row in that group.  \n",
    "- Finally, use `.fillna(...)` on the `Age` column to replace missing values with these medians.  \n",
    "- Don’t forget to reassign the result back to `titanic_df[\"Age\"]`.\n",
    "\n",
    "When you’re done, print out the summary statistics for the `Age` column and make sure it matches my output below:\n",
    "<code>\n",
    "Summary statistics of Age\n",
    "count    891.000000\n",
    "mean      29.394130\n",
    "std       13.270911\n",
    "min        0.420000\n",
    "25%       21.000000\n",
    "50%       30.000000\n",
    "75%       35.000000\n",
    "max       80.000000\n",
    "Name: Age, dtype: float64\n",
    "</code>\n"
   ]
  },
  {
   "cell_type": "code",
   "execution_count": 17,
   "metadata": {},
   "outputs": [
    {
     "name": "stdout",
     "output_type": "stream",
     "text": [
      "Summary statistics of Age\n",
      "count    891.000000\n",
      "mean      29.394130\n",
      "std       13.270911\n",
      "min        0.420000\n",
      "25%       21.000000\n",
      "50%       30.000000\n",
      "75%       35.000000\n",
      "max       80.000000\n",
      "Name: Age, dtype: float64\n"
     ]
    }
   ],
   "source": [
    "titanic_df[\"Age\"] = titanic_df[\"Age\"].fillna(\n",
    "    titanic_df.groupby(\"Title\")[\"Age\"].transform(\"median\")\n",
    ")\n",
    "print(\"Summary statistics of Age\")\n",
    "print(titanic_df[\"Age\"].describe())"
   ]
  },
  {
   "cell_type": "markdown",
   "metadata": {},
   "source": [
    "<div class=\"exercise\"><b>Exercise 7: Creating a `FamilySize` Feature</b></div>\n",
    "\n",
    "Recall the two variables that describe family relationships:  \n",
    "- **`SibSp`** = number of siblings/spouses aboard  \n",
    "- **`Parch`** = number of parents/children aboard  \n",
    "\n",
    "By themselves, these don’t tell the whole story of how many family members a passenger was traveling with.  To capture this, we can combine them into a single feature:\n",
    "\n",
    "$$\n",
    "\\text{FamilySize} = \\text{SibSp} + \\text{Parch} + 1\n",
    "$$\n",
    "\n",
    "(The `+1` is to include the passenger themselves.)\n",
    "\n",
    "**Why might this be useful?**  \n",
    "- Family size could influence survival odds.  \n",
    "- Large families may have had more difficulty staying together and surviving.  \n",
    "- People traveling alone may have faced different survival situations compared to those with small families.  \n",
    "\n",
    "This new feature is more informative than keeping `SibSp` and `Parch` separate.\n",
    "\n",
    "---\n",
    "\n",
    "**In the code cell below, write code to:**\n",
    "1. Create a new column called `FamilySize`.  \n",
    "2. Set it equal to `SibSp + Parch + 1`.  \n",
    "3. Print the summary statistics of the `FamilySize` column\n",
    "\n",
    "The output from my solution is:\n",
    "<code>\n",
    "count    891.000000\n",
    "mean       1.904602\n",
    "std        1.613459\n",
    "min        1.000000\n",
    "25%        1.000000\n",
    "50%        1.000000\n",
    "75%        2.000000\n",
    "max       11.000000\n",
    "Name: FamilySize, dtype: float64\n",
    "</code>"
   ]
  },
  {
   "cell_type": "code",
   "execution_count": 18,
   "metadata": {},
   "outputs": [
    {
     "name": "stdout",
     "output_type": "stream",
     "text": [
      "count    891.000000\n",
      "mean       1.904602\n",
      "std        1.613459\n",
      "min        1.000000\n",
      "25%        1.000000\n",
      "50%        1.000000\n",
      "75%        2.000000\n",
      "max       11.000000\n",
      "Name: FamilySize, dtype: float64\n"
     ]
    }
   ],
   "source": [
    "titanic_df[\"FamilySize\"] = titanic_df[\"SibSp\"] + titanic_df[\"Parch\"] + 1\n",
    "print(titanic_df[\"FamilySize\"].describe())"
   ]
  },
  {
   "cell_type": "markdown",
   "metadata": {},
   "source": [
    "### Dropping `SibSp` and `Parch`\n",
    "\n",
    "Now that we’ve created the `FamilySize` feature, the original variables `SibSp` and `Parch` are no longer needed.  \n",
    "\n",
    "**In the code cell below, write code to drop the `SibSp` and `Parch` columns from the dataset. Then print the number of missing values in each column so that we can see which columns remain and how many missing values are left.**\n",
    "\n",
    "My output was as follows:\n",
    "<code>\n",
    "Missing values per column:\n",
    "Survived      0\n",
    "Pclass        0\n",
    "Sex           0\n",
    "Age           0\n",
    "Fare          0\n",
    "Embarked      0\n",
    "Title         0\n",
    "FamilySize    0\n",
    "dtype: int64\n",
    "</code>"
   ]
  },
  {
   "cell_type": "code",
   "execution_count": 19,
   "metadata": {},
   "outputs": [
    {
     "name": "stdout",
     "output_type": "stream",
     "text": [
      "Missing values per column:\n",
      "Survived      0\n",
      "Pclass        0\n",
      "Sex           0\n",
      "Age           0\n",
      "Fare          0\n",
      "Embarked      0\n",
      "Title         0\n",
      "FamilySize    0\n",
      "dtype: int64\n"
     ]
    }
   ],
   "source": [
    "titanic_df = titanic_df.drop([\"SibSp\", \"Parch\"], axis=1)\n",
    "print(\"Missing values per column:\")\n",
    "print(titanic_df.isnull().sum())"
   ]
  },
  {
   "cell_type": "markdown",
   "metadata": {},
   "source": [
    "### A Clean Dataset, Ready for Exploration\n",
    "\n",
    "We’ve now cleaned up the Titanic dataset:\n",
    "- Removed unnecessary columns (`PassengerId`, `Ticket`, `Cabin`, `Name`, etc.).\n",
    "- Created new, more useful features (like `Title` and `FamilySize`).\n",
    "- Handled missing values in `Age` and `Embarked`.\n",
    "\n",
    "✅ At this stage, we have a **tight dataset** with features that are likely to be useful and **no missing values**.\n",
    "\n",
    "---\n",
    "\n",
    "### Next Step: Exploratory Data Analysis (EDA)\n",
    "\n",
    "Before building a logistic regression model, we should explore the data to see which features might be important for predicting survival.\n",
    "\n",
    "In the next step, we’ll do some **EDA (Exploratory Data Analysis)**:\n",
    "- Look at the distribution of survival by different features.\n",
    "- Create some plots to visualize relationships (e.g., survival by sex, class, family size, title).\n",
    "- Develop intuition for which variables are likely to be strong predictors.\n",
    "\n",
    "This will help us understand our data and guide how we set up the logistic regression model.\n",
    "\n",
    "**Run the code cell below to generate some first plots:**\n",
    "1. A bar chart of survival counts by **sex**.  \n",
    "2. A boxplot showing the distribution of **age** by survival status.\n"
   ]
  },
  {
   "cell_type": "code",
   "execution_count": 20,
   "metadata": {},
   "outputs": [
    {
     "data": {
      "image/png": "[encoded data removed]",
      "text/plain": [
       "<Figure size 600x400 with 1 Axes>"
      ]
     },
     "metadata": {},
     "output_type": "display_data"
    },
    {
     "data": {
      "image/png": "[encoded data removed]",
      "text/plain": [
       "<Figure size 800x500 with 1 Axes>"
      ]
     },
     "metadata": {},
     "output_type": "display_data"
    }
   ],
   "source": [
    "import matplotlib.pyplot as plt\n",
    "import seaborn as sns\n",
    "\n",
    "\n",
    "# 1) Survival counts by Sex\n",
    "plt.figure(figsize=(6,4))\n",
    "sns.countplot(x=\"Sex\", hue=\"Survived\", data=titanic_df)\n",
    "plt.title(\"Survival Counts by Sex\")\n",
    "plt.show()\n",
    "\n",
    "# 4) Age distribution by Survival\n",
    "plt.figure(figsize=(8,5))\n",
    "sns.boxplot(x=\"Survived\", y=\"Age\", data=titanic_df)\n",
    "plt.title(\"Age Distribution by Survival\")\n",
    "plt.show()"
   ]
  },
  {
   "cell_type": "markdown",
   "metadata": {},
   "source": [
    "<div class=\"exercise\"><b>Exercise 8: More EDA Visualizations</b></div>\n",
    "\n",
    "### What We’ve Seen So Far\n",
    "\n",
    "Our first exploratory plots already reveal some strong patterns:  \n",
    "- **Sex**: Females had much higher survival rates than males.  \n",
    "- **Age**: Younger passengers (especially children) had better chances of survival than older ones.\n",
    "\n",
    "These observations suggest that both **Sex** and **Age** will be important predictors in our logistic regression model.\n",
    "\n",
    "---\n",
    "\n",
    "Now let’s expand our analysis to other variables. **Create the following plots using Seaborn/Matplotlib.**  \n",
    "(You can adapt the code patterns you just ran for Sex and Age.)\n",
    "\n",
    "1. **Survival counts by Passenger Class (`Pclass`)**  \n",
    "   - Hint: Use a `countplot` with `x=\"Pclass\"` and `hue=\"Survived\"`.  \n",
    "\n",
    "2. **Survival counts by Title**  \n",
    "   - Hint: Use a `countplot` with `x=\"Title\"` and `hue=\"Survived\"`.  \n",
    "   - Rotate x-axis labels if needed so they don’t overlap.  \n",
    "\n",
    "3. **Fare distribution by Survival**  \n",
    "   - Hint: A `boxplot` with `x=\"Survived\"` and `y=\"Fare\"` works well.  \n",
    "\n",
    "4. **Survival counts by Family Size**  \n",
    "   - Hint: Use a `countplot` with `x=\"FamilySize\"` and `hue=\"Survived\"`.  \n",
    "   - Consider making the figure wider to fit all family sizes clearly.  \n",
    "\n",
    "---"
   ]
  },
  {
   "cell_type": "code",
   "execution_count": 21,
   "metadata": {},
   "outputs": [
    {
     "data": {
      "image/png": "[encoded data removed]",
      "text/plain": [
       "<Figure size 600x400 with 1 Axes>"
      ]
     },
     "metadata": {},
     "output_type": "display_data"
    },
    {
     "data": {
      "image/png": "[encoded data removed]",
      "text/plain": [
       "<Figure size 800x400 with 1 Axes>"
      ]
     },
     "metadata": {},
     "output_type": "display_data"
    },
    {
     "data": {
      "image/png": "[encoded data removed]",
      "text/plain": [
       "<Figure size 600x400 with 1 Axes>"
      ]
     },
     "metadata": {},
     "output_type": "display_data"
    },
    {
     "data": {
      "image/png": "[encoded data removed]",
      "text/plain": [
       "<Figure size 1000x400 with 1 Axes>"
      ]
     },
     "metadata": {},
     "output_type": "display_data"
    }
   ],
   "source": [
    "# 1) Survival counts by Passenger Class (Pclass)\n",
    "plt.figure(figsize=(6,4))\n",
    "sns.countplot(data=titanic_df, x=\"Pclass\", hue=\"Survived\")\n",
    "plt.title(\"Survival counts by Passenger Class (Pclass)\")\n",
    "plt.show()\n",
    "\n",
    "# 2) Survival counts by Title\n",
    "plt.figure(figsize=(8,4))\n",
    "sns.countplot(data=titanic_df, x=\"Title\", hue=\"Survived\")\n",
    "plt.title(\"Survival counts by Title\")\n",
    "plt.xticks(rotation=30)   \n",
    "plt.show()\n",
    "\n",
    "# 3) Fare distribution by Survival\n",
    "plt.figure(figsize=(6,4))\n",
    "sns.boxplot(data=titanic_df, x=\"Survived\", y=\"Fare\")\n",
    "plt.title(\"Fare distribution by Survival\")\n",
    "plt.show()\n",
    "\n",
    "# 4) Survival counts by Family Size\n",
    "plt.figure(figsize=(10,4))   \n",
    "sns.countplot(data=titanic_df, x=\"FamilySize\", hue=\"Survived\")\n",
    "plt.title(\"Survival counts by Family Size\")\n",
    "plt.show()"
   ]
  },
  {
   "cell_type": "markdown",
   "metadata": {},
   "source": [
    "### What We Learned from Additional EDA\n",
    "\n",
    "Our additional plots reveal several more patterns:\n",
    "\n",
    "- **Passenger Class (Pclass):** Passengers in 1st class had much higher survival rates compared to those in 2nd and especially 3rd class.  \n",
    "- **Title:** Titles like *Mrs*, *Miss*, and *Master* had higher survival odds, while *Mr* had much lower survival. Rare groups like *Officer* and *Royalty* show mixed survival patterns due to small sample sizes.  \n",
    "- **Fare:** Survivors tended to have paid higher fares on average, suggesting wealth (closely tied to class) may have influenced survival chances.  \n",
    "- **Family Size:** Survival was higher for passengers with small families (2–4 members), while those traveling alone or in very large families had lower survival rates.\n",
    "\n",
    "Together with what we saw earlier for **Sex** and **Age**, these findings highlight the key features we should consider in our logistic regression model.\n"
   ]
  },
  {
   "cell_type": "markdown",
   "metadata": {},
   "source": [
    "<div class=\"exercise\"><b>Exercise 9: Creating a Train-Test Split</b></div>\n",
    "\n",
    "Now that our dataset is clean and we’ve explored the features, it’s time to prepare for modeling.\n",
    "\n",
    "Before we fit a logistic regression model, we need to split our dataset into two parts:\n",
    "- **Training set (`train_df`)**: This is the portion of the data we use to fit (train) our model.\n",
    "- **Test set (`test_df`)**: This is the portion we set aside to evaluate how well our model performs on *unseen* data.\n",
    "\n",
    "**Why do we do this?**\n",
    "- If we train and test on the same data, our model might just memorize the training data instead of learning general patterns (this is called *overfitting*).\n",
    "- A test set gives us an honest estimate of how the model will perform on new passengers it has never seen before.\n",
    "\n",
    "**Your task:**  \n",
    "Use `train_test_split` from `sklearn.model_selection` to create:\n",
    "- `train_df` and `test_df`  \n",
    "- Use `test_size=0.2` so that 20% of the data is held out for testing.  \n",
    "- Set `random_state=42` so results are reproducible (everyone gets the same split).\n",
    "- Print the `shape` of the training and testing sets.\n",
    "\n",
    "Below is the output from my solution:\n",
    "<code>\n",
    "Training set shape: (712, 8)\n",
    "Testing set shape: (179, 8)\n",
    "</code>\n"
   ]
  },
  {
   "cell_type": "code",
   "execution_count": 22,
   "metadata": {},
   "outputs": [
    {
     "name": "stdout",
     "output_type": "stream",
     "text": [
      "Training set shape: (712, 8)\n",
      "Testing set shape: (179, 8)\n"
     ]
    }
   ],
   "source": [
    "from sklearn.model_selection import train_test_split\n",
    "\n",
    "train_df, test_df = train_test_split(\n",
    "    titanic_df, test_size=0.2, random_state=42\n",
    ")\n",
    "\n",
    "print(\"Training set shape:\", train_df.shape)\n",
    "print(\"Testing set shape:\", test_df.shape)"
   ]
  },
  {
   "cell_type": "markdown",
   "metadata": {},
   "source": [
    "<div class=\"exercise\"><b>Exercise 10: Building a Base Logistic Regression Model</b></div>\n",
    "\n",
    "Now that we have our **training set (`train_df`)**, we can begin to build a logistic regression model to predict whether or not a passenger survived the Titanic disaster.\n",
    "\n",
    "Whenever we build predictive models, it’s always a good idea to start with a **simple base model**.For our base model, we’ll use only three numeric predictors:  \n",
    "- `Age`  \n",
    "- `Fare`  \n",
    "- `FamilySize`  \n",
    "\n",
    "**Your task:**  \n",
    "1. Create and fit a ***logistic regression model*** with the formula:  `\"Survived ~ Age + Fare + FamilySize\"`\n",
    "2. Print the model summary to examine the coefficients\n",
    "\n",
    "Note that we have already imported the `logit` function from `statsmodel`.\n",
    "\n",
    "The output from my solution is as follows:\n",
    "\n",
    "```text\n",
    "Optimization terminated successfully.\n",
    "         Current function value: 0.618086\n",
    "         Iterations 6\n",
    "                           Logit Regression Results                           \n",
    "==============================================================================\n",
    "Dep. Variable:               Survived   No. Observations:                  712\n",
    "Model:                          Logit   Df Residuals:                      708\n",
    "Method:                           MLE   Df Model:                            3\n",
    "Date:                Sat, 20 Sep 2025   Pseudo R-squ.:                 0.06673\n",
    "Time:                        14:26:06   Log-Likelihood:                -440.08\n",
    "converged:                       True   LL-Null:                       -471.54\n",
    "Covariance Type:            nonrobust   LLR p-value:                 1.392e-13\n",
    "==============================================================================\n",
    "                 coef    std err          z      P>|z|      [0.025      0.975]\n",
    "------------------------------------------------------------------------------\n",
    "Intercept     -0.1189      0.251     -0.473      0.636      -0.611       0.373\n",
    "Age           -0.0209      0.007     -3.083      0.002      -0.034      -0.008\n",
    "Fare           0.0168      0.003      6.193      0.000       0.011       0.022\n",
    "FamilySize    -0.1532      0.056     -2.720      0.007      -0.264      -0.043\n",
    "==============================================================================\n",
    "```\n"
   ]
  },
  {
   "cell_type": "code",
   "execution_count": 23,
   "metadata": {},
   "outputs": [
    {
     "name": "stdout",
     "output_type": "stream",
     "text": [
      "Optimization terminated successfully.\n",
      "         Current function value: 0.618086\n",
      "         Iterations 6\n",
      "                           Logit Regression Results                           \n",
      "==============================================================================\n",
      "Dep. Variable:               Survived   No. Observations:                  712\n",
      "Model:                          Logit   Df Residuals:                      708\n",
      "Method:                           MLE   Df Model:                            3\n",
      "Date:                Tue, 30 Sep 2025   Pseudo R-squ.:                 0.06673\n",
      "Time:                        23:26:18   Log-Likelihood:                -440.08\n",
      "converged:                       True   LL-Null:                       -471.54\n",
      "Covariance Type:            nonrobust   LLR p-value:                 1.392e-13\n",
      "==============================================================================\n",
      "                 coef    std err          z      P>|z|      [0.025      0.975]\n",
      "------------------------------------------------------------------------------\n",
      "Intercept     -0.1189      0.251     -0.473      0.636      -0.611       0.373\n",
      "Age           -0.0209      0.007     -3.083      0.002      -0.034      -0.008\n",
      "Fare           0.0168      0.003      6.193      0.000       0.011       0.022\n",
      "FamilySize    -0.1532      0.056     -2.720      0.007      -0.264      -0.043\n",
      "==============================================================================\n"
     ]
    }
   ],
   "source": [
    "formula_titanic = \"Survived ~ Age + Fare + FamilySize\"\n",
    "model_titanic = logit(formula=formula_titanic, data=train_df).fit()\n",
    "print(model_titanic.summary())"
   ]
  },
  {
   "cell_type": "markdown",
   "metadata": {},
   "source": [
    "<div class=\"exercise\"><b>Exercise 11: Evaluating Model Performance</b></div>\n",
    "\n",
    "Now that we’ve fit our logistic regression model, we need to evaluate how well it performs on the **test set**.  \n",
    "Remember: accuracy alone is not enough — we want a more complete picture of performance.\n",
    "\n",
    "**Your task:** Write Python code **(using `test_df`)** to compute and display the following:\n",
    "\n",
    "1. Confusion Matrix\n",
    "2. Accuracy\n",
    "3. Sensitivity (Recall or True Positive Rate)\n",
    "4. Specificity (True Negative Rate)  \n",
    "5. AUC (Area Under the ROC Curve)  \n",
    "6. ROC Curve\n",
    "\n",
    "Below is the output (except for the ROC curve) from my solution--make sure you output matches exactly:\n",
    "<code>\n",
    "Confusion Matrix:\n",
    "TN=100, FP=5, FN=56, TP=18\n",
    "Accuracy: 0.659217877094972\n",
    "Sensitivity: 0.24324324324324326\n",
    "Specificity: 0.9523809523809523\n",
    "AUC: 0.8313384813384813\n",
    "</code>"
   ]
  },
  {
   "cell_type": "code",
   "execution_count": 24,
   "metadata": {},
   "outputs": [
    {
     "name": "stdout",
     "output_type": "stream",
     "text": [
      "Confusion Matrix:\n",
      "TN=100, FP=5, FN=56, TP=18\n",
      "Accuracy: 0.659217877094972\n",
      "Sensitivity: 0.24324324324324326\n",
      "Specificity: 0.9523809523809523\n",
      "AUC: 0.8313384813384813\n"
     ]
    }
   ],
   "source": [
    "from sklearn.metrics import confusion_matrix, accuracy_score, roc_auc_score, roc_curve\n",
    "import matplotlib.pyplot as plt\n",
    "\n",
    "y_true = test_df[\"Survived\"]\n",
    "\n",
    "y_pred_prob = model_titanic.predict(test_df)\n",
    "y_pred = (y_pred_prob >= 0.5).astype(int)\n",
    "\n",
    "tn, fp, fn, tp = confusion_matrix(y_true, y_pred).ravel()\n",
    "print(\"Confusion Matrix:\")\n",
    "print(f\"TN={tn}, FP={fp}, FN={fn}, TP={tp}\")\n",
    "\n",
    "accuracy = accuracy_score(y_true, y_pred)\n",
    "print(\"Accuracy:\", accuracy)\n",
    "\n",
    "sensitivity = tp / (tp + fn)\n",
    "print(\"Sensitivity:\", sensitivity)\n",
    "\n",
    "specificity = tn / (tn + fp)\n",
    "print(\"Specificity:\", specificity)\n",
    "\n",
    "auc = roc_auc_score(y_true, y_pred_prob)\n",
    "print(\"AUC:\", auc)"
   ]
  },
  {
   "cell_type": "markdown",
   "metadata": {},
   "source": [
    "### Model Performance Overview\n",
    "\n",
    "Here is what we observe when evaluating our logistic regression model on the **test set**:\n",
    "\n",
    "- **Confusion Matrix**  \n",
    "  - True Negatives (TN): 100 — correctly identified non-survivors.  \n",
    "  - False Positives (FP): 5 — predicted survival when the passenger did not survive.  \n",
    "  - False Negatives (FN): 56 — predicted non-survival when the passenger actually survived.  \n",
    "  - True Positives (TP): 18 — correctly identified survivors.  \n",
    "\n",
    "- **Accuracy: ~0.66**  \n",
    "  - The model correctly predicts survival or non-survival about two-thirds of the time.  \n",
    "\n",
    "- **Sensitivity (Recall / True Positive Rate): ~0.24**  \n",
    "  - The model only identifies about **1 in 4 actual survivors**, meaning it misses many survivors.  \n",
    "\n",
    "- **Specificity (True Negative Rate): ~0.95**  \n",
    "  - The model is very good at correctly identifying non-survivors.  \n",
    "\n",
    "- **AUC: ~0.83**  \n",
    "  - The ROC curve shows strong ability to separate survivors from non-survivors overall, even though the chosen threshold (0.5) is skewed toward predicting non-survival.  \n",
    "\n",
    "---\n",
    "\n",
    "### Takeaway\n",
    "This base model does a good job identifying who **did not survive**, but it struggles to correctly predict who **did survive**.  \n",
    "- That’s why the sensitivity is low while specificity is very high.  \n"
   ]
  },
  {
   "cell_type": "markdown",
   "metadata": {},
   "source": [
    "<div class=\"exercise\"><b>Exercise 12: Predicting Survival for a New Passenger</b></div>\n",
    "\n",
    "Now let’s use our logistic regression model to **predict survival** for a specific passenger with the following profile:\n",
    "\n",
    "- **Age**: 25  \n",
    "- **Fare**: 50  \n",
    "- **FamilySize**: 2  \n",
    "- **Sex**: female  \n",
    "- **Pclass**: 2  \n",
    "- **Title**: Miss  \n",
    "- **Embarked**: S  \n",
    "\n",
    "In the code cell below, write code to predict both:  \n",
    "- The **probability of survival**, and  \n",
    "- The **predicted classification** (0 = did not survive, 1 = survived).\n",
    "\n",
    "Here is the output from my solution (try to get yours to match exactly):\n",
    "<code>\n",
    "Predicted probability of survival: 0.473\n",
    "Predicted class: 0\n",
    "</code>"
   ]
  },
  {
   "cell_type": "code",
   "execution_count": 25,
   "metadata": {},
   "outputs": [
    {
     "name": "stdout",
     "output_type": "stream",
     "text": [
      "Predicted probability of survival: 0.473\n",
      "Predicted class: 0\n"
     ]
    }
   ],
   "source": [
    "import pandas as pd\n",
    "\n",
    "new_passenger = pd.DataFrame({\n",
    "    \"Age\": [25],\n",
    "    \"Fare\": [50],\n",
    "    \"FamilySize\": [2],\n",
    "    \"Sex\": [\"female\"],\n",
    "    \"Pclass\": [2],\n",
    "    \"Title\": [\"Miss\"],\n",
    "    \"Embarked\": [\"S\"]\n",
    "})\n",
    "\n",
    "pred_prob = model_titanic.predict(new_passenger)[0]\n",
    "pred_class = int(pred_prob >= 0.5)\n",
    "\n",
    "print(\"Predicted probability of survival:\", round(pred_prob, 3))\n",
    "print(f\"Predicted class: {pred_class}\")"
   ]
  },
  {
   "cell_type": "markdown",
   "metadata": {},
   "source": [
    "<div class=\"exercise\"><b>Exercise 13: Exploring New Models</b></div>\n",
    "\n",
    "Now that you have built and evaluated a base logistic regression model, it’s time for you to explore **new models** by:\n",
    "- Adding additional variables (e.g., `Sex`, `Pclass`, `Title`, `Embarked`).\n",
    "- Trying out interaction terms (e.g., `Sex * Pclass` or `Sex * Age`).\n",
    "\n",
    "The goal is to see if you can improve the predictive performance compared to the base model.\n",
    "\n",
    "---\n",
    "\n",
    "### Important Notes on Common Errors\n",
    "\n",
    "When experimenting with logistic regression in `statsmodels`, you may encounter some error messages.  \n",
    "This is completely normal in modeling, and learning how to interpret them is part of the process.\n",
    "\n",
    "1. **Singular Matrix Error**  \n",
    "   - Example message:  \n",
    "     ```\n",
    "     LinAlgError: Singular matrix\n",
    "     ```  \n",
    "   - What it means: Some predictors (or categories within predictors) are **perfectly correlated** or have too few observations. The model cannot estimate unique coefficients.  \n",
    "   - How to handle:  \n",
    "     - Combine rare categories (e.g., merge `Royalty` and `Officer` into `\"Other\"`).  \n",
    "     - Remove redundant variables that carry duplicate information.  \n",
    "\n",
    "2. **Non-Convergence Warning**  \n",
    "   - Example message:  \n",
    "     ```\n",
    "     Warning: Maximum number of iterations has been exceeded.\n",
    "     ```\n",
    "     or  \n",
    "     ```\n",
    "     ConvergenceWarning: Maximum Likelihood optimization failed to converge\n",
    "     ```  \n",
    "   - What it means: The optimization algorithm is struggling to find stable estimates. This often happens when:  \n",
    "     - Variables are highly correlated.  \n",
    "     - There are too many predictors for the sample size.  \n",
    "     - Some categories nearly perfectly predict survival.  \n",
    "   - How to handle:  \n",
    "     - Simplify the model (drop or combine predictors).  \n",
    "     - Try adding variables one at a time to see which one causes the issue.  \n",
    "     - Remember: a simpler, converging model is better than a complex one that fails to converge.\n",
    "\n",
    "---\n",
    "\n",
    "### Your Task\n",
    "\n",
    "1. Build one or more new logistic regression models by adding variables and/or interaction terms.  \n",
    "2. Make sure your final model **converges successfully**.  \n",
    "3. Once you have a model that runs, evaluate it on the **test set (`test_df`)**:  \n",
    "   - Confusion matrix  \n",
    "   - Accuracy  \n",
    "   - Sensitivity  \n",
    "   - Specificity  \n",
    "   - AUC  \n",
    "   - ROC curve  \n",
    "4. Write a few sentences summarizing how well your best model performed.  \n",
    "   - Did it improve over the base model?  \n",
    "   - Was it better at finding survivors?  \n",
    "   - Was there a trade-off between sensitivity and specificity?\n",
    "\n",
    "---\n",
    "\n",
    "⚠️ **Remember:** These kinds of warnings and errors are common in real-world modeling. Your goal is to come up with the **best converging model you can** and explain its strengths and weaknesses.\n"
   ]
  },
  {
   "cell_type": "markdown",
   "metadata": {},
   "source": [
    "formula_expanded = \"Survived ~ Age + Fare + FamilySize + Sex + Pclass + Title + Embarked + Sex*Pclass\"\n",
    "model_expanded = logit(formula=formula_expanded, data=train_df).fit()\n",
    "print(model_expanded.summary())"
   ]
  },
  {
   "cell_type": "code",
   "execution_count": 26,
   "metadata": {},
   "outputs": [
    {
     "name": "stdout",
     "output_type": "stream",
     "text": [
      "Warning: Maximum number of iterations has been exceeded.\n",
      "         Current function value: 0.400372\n",
      "         Iterations: 35\n",
      "                           Logit Regression Results                           \n",
      "==============================================================================\n",
      "Dep. Variable:               Survived   No. Observations:                  712\n",
      "Model:                          Logit   Df Residuals:                      699\n",
      "Method:                           MLE   Df Model:                           12\n",
      "Date:                Tue, 30 Sep 2025   Pseudo R-squ.:                  0.3955\n",
      "Time:                        23:26:18   Log-Likelihood:                -285.06\n",
      "converged:                      False   LL-Null:                       -471.54\n",
      "Covariance Type:            nonrobust   LLR p-value:                 1.996e-72\n",
      "======================================================================================\n",
      "                         coef    std err          z      P>|z|      [0.025      0.975]\n",
      "--------------------------------------------------------------------------------------\n",
      "Intercept              8.4457        nan        nan        nan         nan         nan\n",
      "Sex[T.male]           -3.7773        nan        nan        nan         nan         nan\n",
      "Title[T.Miss]         -0.7732        nan        nan        nan         nan         nan\n",
      "Title[T.Mr]           -3.2149      0.604     -5.319      0.000      -4.400      -2.030\n",
      "Title[T.Mrs]           0.4105        nan        nan        nan         nan         nan\n",
      "Title[T.Officer]      -2.7989      0.921     -3.041      0.002      -4.603      -0.995\n",
      "Title[T.Royalty]      12.5858        nan        nan        nan         nan         nan\n",
      "Embarked[T.Q]         -0.2835      0.432     -0.656      0.512      -1.131       0.564\n",
      "Embarked[T.S]         -0.6125      0.287     -2.136      0.033      -1.175      -0.050\n",
      "Age                   -0.0206      0.011     -1.809      0.070      -0.043       0.002\n",
      "Fare                   0.0034      0.003      1.210      0.226      -0.002       0.009\n",
      "FamilySize            -0.4625      0.098     -4.705      0.000      -0.655      -0.270\n",
      "Pclass                -1.9859      0.393     -5.053      0.000      -2.756      -1.216\n",
      "Sex[T.male]:Pclass     1.3276      0.411      3.230      0.001       0.522       2.133\n",
      "======================================================================================\n"
     ]
    },
    {
     "name": "stderr",
     "output_type": "stream",
     "text": [
      "C:\\Users\\phuon\\OneDrive\\Attachments\\Lib\\site-packages\\statsmodels\\base\\model.py:607: ConvergenceWarning: Maximum Likelihood optimization failed to converge. Check mle_retvals\n",
      "  warnings.warn(\"Maximum Likelihood optimization failed to \"\n"
     ]
    }
   ],
   "source": [
    "#1 Build one or more new logistic regression models by adding variables and/or interaction terms.\n",
    "formula_expanded = \"Survived ~ Age + Fare + FamilySize + Sex + Pclass + Title + Embarked + Sex*Pclass\"\n",
    "model_expanded = logit(formula=formula_expanded, data = train_df).fit()\n",
    "print(model_expanded.summary())"
   ]
  },
  {
   "cell_type": "code",
   "execution_count": 27,
   "metadata": {},
   "outputs": [
    {
     "name": "stdout",
     "output_type": "stream",
     "text": [
      "Optimization terminated successfully.\n",
      "         Current function value: 0.434982\n",
      "         Iterations 8\n",
      "                           Logit Regression Results                           \n",
      "==============================================================================\n",
      "Dep. Variable:               Survived   No. Observations:                  712\n",
      "Model:                          Logit   Df Residuals:                      705\n",
      "Method:                           MLE   Df Model:                            6\n",
      "Date:                Tue, 30 Sep 2025   Pseudo R-squ.:                  0.3432\n",
      "Time:                        23:26:18   Log-Likelihood:                -309.71\n",
      "converged:                       True   LL-Null:                       -471.54\n",
      "Covariance Type:            nonrobust   LLR p-value:                 6.901e-67\n",
      "======================================================================================\n",
      "                         coef    std err          z      P>|z|      [0.025      0.975]\n",
      "--------------------------------------------------------------------------------------\n",
      "Intercept              8.1554      1.181      6.906      0.000       5.841      10.470\n",
      "Sex[T.male]           -6.8056      1.109     -6.135      0.000      -8.980      -4.631\n",
      "Age                   -0.0352      0.009     -3.878      0.000      -0.053      -0.017\n",
      "Fare                   0.0032      0.003      1.250      0.211      -0.002       0.008\n",
      "FamilySize            -0.2302      0.073     -3.140      0.002      -0.374      -0.087\n",
      "Pclass                -2.2605      0.386     -5.859      0.000      -3.017      -1.504\n",
      "Sex[T.male]:Pclass     1.6082      0.401      4.008      0.000       0.822       2.395\n",
      "======================================================================================\n"
     ]
    }
   ],
   "source": [
    "#2 Make sure your final model converges successfully.\n",
    "\n",
    "formula_converge = \"Survived ~ Age + Fare + FamilySize + Sex + Pclass + Sex:Pclass\"\n",
    "model_converge = logit(formula=formula_converge, data=train_df).fit()\n",
    "print(model_converge.summary())"
   ]
  },
  {
   "cell_type": "code",
   "execution_count": 28,
   "metadata": {},
   "outputs": [
    {
     "name": "stdout",
     "output_type": "stream",
     "text": [
      "Confusion Matrix:\n",
      "TN=95, FP=10, FN=23, TP=51\n",
      "Accuracy: 0.8156424581005587\n",
      "Sensitivity: 0.6891891891891891\n",
      "Specificity: 0.9047619047619048\n",
      "AUC: 0.8961389961389962\n"
     ]
    },
    {
     "data": {
      "image/png": "[encoded data removed]",
      "text/plain": [
       "<Figure size 640x480 with 1 Axes>"
      ]
     },
     "metadata": {},
     "output_type": "display_data"
    }
   ],
   "source": [
    "#3 Evaluate the model on the test set (test_df): Confusion matrix, Accuracy, Sensitivity, Specificity, AUC, ROC curve\n",
    "\n",
    "from sklearn.metrics import confusion_matrix, accuracy_score, roc_auc_score, roc_curve\n",
    "import matplotlib.pyplot as plt\n",
    "\n",
    "y_true = test_df[\"Survived\"]\n",
    "\n",
    "y_pred_prob = model_converge.predict(test_df)\n",
    "y_pred = (y_pred_prob >= 0.5).astype(int)\n",
    "\n",
    "tn, fp, fn, tp = confusion_matrix(y_true, y_pred).ravel()\n",
    "print(\"Confusion Matrix:\")\n",
    "print(f\"TN={tn}, FP={fp}, FN={fn}, TP={tp}\")\n",
    "\n",
    "accuracy = accuracy_score(y_true, y_pred)\n",
    "print(\"Accuracy:\", accuracy)\n",
    "\n",
    "sensitivity = tp / (tp + fn)\n",
    "print(\"Sensitivity:\", sensitivity)\n",
    "\n",
    "specificity = tn / (tn + fp)\n",
    "print(\"Specificity:\", specificity)\n",
    "\n",
    "auc = roc_auc_score(y_true, y_pred_prob)\n",
    "print(\"AUC:\", auc)\n",
    "\n",
    "fpr, tpr, _ = roc_curve(y_true, y_pred_prob)\n",
    "plt.plot(fpr, tpr, label=f\"AUC = {auc:.2f}\")\n",
    "plt.plot([0,1], [0,1], \"k--\")\n",
    "plt.xlabel(\"False Positive Rate (1 - Specificity)\")\n",
    "plt.ylabel(\"True Positive Rate (Sensitivity)\")\n",
    "plt.title(\"ROC Curve (Expanded Model)\")\n",
    "plt.legend()\n",
    "plt.show()"
   ]
  },
  {
   "cell_type": "markdown",
   "metadata": {},
   "source": [
    "Requirement 4: \n",
    "\n",
    "The final converged model performed strongly with an accuracy of about 82% and an AUC of 0.90, which shows excellent discriminative power. Compared to the base model, it clearly improved in overall fit and predictive performance. However, while specificity was very high approximately 92%, sensitivity was lower about 69%, meaning the model was better at correctly identifying non-survivors than survivors. This indicates a trade-off between sensitivity and specificity, where the model prioritized reducing false positives but missed some true survivors."
   ]
  }
 ],
 "metadata": {
  "celltoolbar": "Raw Cell Format",
  "kernelspec": {
   "display_name": "Python 3 (ipykernel)",
   "language": "python",
   "name": "python3"
  },
  "language_info": {
   "codemirror_mode": {
    "name": "ipython",
    "version": 3
   },
   "file_extension": ".py",
   "mimetype": "text/x-python",
   "name": "python",
   "nbconvert_exporter": "python",
   "pygments_lexer": "ipython3",
   "version": "3.12.7"
  }
 },
 "nbformat": 4,
 "nbformat_minor": 4
}
