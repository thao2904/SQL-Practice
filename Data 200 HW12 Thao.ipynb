{
 "cells": [
  {
   "cell_type": "markdown",
   "metadata": {},
   "source": [
    "# Data 200: Data Systems for Data Analytics (Spring 2025)"
   ]
  },
  {
   "cell_type": "markdown",
   "metadata": {},
   "source": [
    "# Homework 12: Introduction to XPath\n",
    "\n",
    "<font color='red'>**Due Date and Time:** 11:59pm on Monday, 4/21/2025 </font>\n",
    "---\n",
    "Enter your name in the markdown cell below."
   ]
  },
  {
   "cell_type": "markdown",
   "metadata": {},
   "source": [
    "# Name: Thao"
   ]
  },
  {
   "cell_type": "code",
   "execution_count": 1,
   "metadata": {},
   "outputs": [
    {
     "data": {
      "text/html": [
       "<style>\n",
       "blockquote { background: #AEDE94; }\n",
       "h1 { \n",
       "    padding-top: 25px;\n",
       "    padding-bottom: 25px;\n",
       "    text-align: left; \n",
       "    padding-left: 10px;\n",
       "    background-color: #DDDDDD; \n",
       "    color: black;\n",
       "}\n",
       "h2 { \n",
       "    padding-top: 10px;\n",
       "    padding-bottom: 10px;\n",
       "    text-align: left; \n",
       "    padding-left: 5px;\n",
       "    background-color: #EEEEEE; \n",
       "    color: black;\n",
       "}\n",
       "\n",
       "div.exercise {\n",
       "\tbackground-color: #ffcccc;\n",
       "\tborder-color: #E9967A; \t\n",
       "\tborder-left: 5px solid #800080; \n",
       "\tpadding: 0.5em;\n",
       "}\n",
       "\n",
       "div.exercise-r {\n",
       "\tbackground-color: #fce8e8;\n",
       "\tborder-color: #E9967A; \t\n",
       "\tborder-left: 5px solid #800080; \n",
       "\tpadding: 0.5em;\n",
       "}\n",
       "\n",
       "\n",
       "span.sub-q {\n",
       "\tfont-weight: bold;\n",
       "}\n",
       "div.theme {\n",
       "\tbackground-color: #DDDDDD;\n",
       "\tborder-color: #E9967A; \t\n",
       "\tborder-left: 5px solid #800080; \n",
       "\tpadding: 0.5em;\n",
       "\tfont-size: 18pt;\n",
       "}\n",
       "div.gc { \n",
       "\tbackground-color: #AEDE94;\n",
       "\tborder-color: #E9967A; \t \n",
       "\tborder-left: 5px solid #800080; \n",
       "\tpadding: 0.5em;\n",
       "\tfont-size: 12pt;\n",
       "}\n",
       "p.q1 { \n",
       "    padding-top: 5px;\n",
       "    padding-bottom: 5px;\n",
       "    text-align: left; \n",
       "    padding-left: 5px;\n",
       "    background-color: #EEEEEE; \n",
       "    color: black;\n",
       "}\n",
       "header {\n",
       "   padding-top: 35px;\n",
       "    padding-bottom: 35px;\n",
       "    text-align: left; \n",
       "    padding-left: 10px;\n",
       "    background-color: #DDDDDD; \n",
       "    color: black;\n",
       "}\n",
       "</style>\n",
       "\n"
      ],
      "text/plain": [
       "<IPython.core.display.HTML object>"
      ]
     },
     "execution_count": 1,
     "metadata": {},
     "output_type": "execute_result"
    }
   ],
   "source": [
    "## RUN THIS CELL TO GET THE RIGHT FORMATTING AND TO LOAD NumPy\n",
    "import requests\n",
    "import numpy as np\n",
    "from IPython.core.display import HTML\n",
    "styles = requests.get(\"https://raw.githubusercontent.com/Harvard-IACS/2018-CS109A/master/content/styles/cs109.css\").text\n",
    "HTML(styles)"
   ]
  },
  {
   "cell_type": "markdown",
   "metadata": {},
   "source": [
    "# Tasks\n",
    "\n",
    "- Review pages 320-336 in the Course Notes.\n",
    "- Complete the **Introduction to HTML** and **XPaths and Selectors** chapters of the **Web Scraping in Python** course on DataCamp.\n",
    "- Submit your completed Jupyter notebook on Moodle."
   ]
  },
  {
   "cell_type": "markdown",
   "metadata": {},
   "source": [
    "# Exercises"
   ]
  },
  {
   "cell_type": "markdown",
   "metadata": {},
   "source": [
    "**Run the code cell below to import the libraries we will use in this homework and to set the data directory.**  Make sure that the folder `hw12Data` is in the same folder as this notebook."
   ]
  },
  {
   "cell_type": "code",
   "execution_count": 2,
   "metadata": {},
   "outputs": [],
   "source": [
    "import os.path\n",
    "from lxml import etree\n",
    "import pandas as pd\n",
    "\n",
    "datadir=\"hw12Data\""
   ]
  },
  {
   "cell_type": "markdown",
   "metadata": {},
   "source": [
    "Recall the function `getLocalXML(filename, datadir)` from Homework #11 that performs the common steps of creating a path from the given `filename` and `datadir` and parses the XML file. \n",
    "\n",
    "**Run the code cell below to define the function within this notebook.**"
   ]
  },
  {
   "cell_type": "code",
   "execution_count": 3,
   "metadata": {},
   "outputs": [],
   "source": [
    "def getLocalXML(filename, datadir=\".\"):\n",
    "    # Set the data directory\n",
    "    xmlPath = os.path.join(datadir, filename)\n",
    "    \n",
    "    try:\n",
    "        tree = etree.parse(xmlPath)   # Use the standard parser\n",
    "        root = tree.getroot()\n",
    "        return root\n",
    "    except:\n",
    "        print(\"Exception in parsing XML\")\n",
    "        return None"
   ]
  },
  {
   "cell_type": "markdown",
   "metadata": {},
   "source": [
    "In this assignment we will make use of four different XML documents (in the `hw12Data` folder) representing data that you are already familiar with: `countries.xml`, `indicators.xml`, `school.xml`, and `topnames.xml`. I suggest that you open each document with a text editor to familiarize yourself with how the data is organized.\n",
    "\n",
    "**Run the code cell below which utilizes the `getLocalXML()` function to import that data and assign the root nodes.**"
   ]
  },
  {
   "cell_type": "code",
   "execution_count": 4,
   "metadata": {},
   "outputs": [],
   "source": [
    "countriesRoot = getLocalXML(\"countries.xml\", datadir)\n",
    "indicatorsRoot = getLocalXML(\"indicators.xml\", datadir)\n",
    "topNamesRoot = getLocalXML(\"topnames.xml\", datadir)\n",
    "schoolRoot = getLocalXML(\"school.xml\", datadir)"
   ]
  },
  {
   "cell_type": "markdown",
   "metadata": {},
   "source": [
    "<div class=\"exercise\"><b>Exercise 1:</b></div> \n",
    "\n",
    "Generate a list `countryList` of countries in the `countries.xml` file and assign the number of countries to be `countryCount`.  Then print the first 10 countries in the list and the total number of countries in the list.  **Please use an XPath expression to accomplish this task.**\n",
    "\n",
    "The output from my solution is as follows:<br>\n",
    "<code>\n",
    "['Afghanistan', 'Albania', 'Algeria', 'American Samoa', 'Andorra', 'Angola', 'Anguilla', 'Antigua and Barbuda', 'Argentina', 'Armenia']\n",
    "The total number of countries is 231\n",
    "</code>"
   ]
  },
  {
   "cell_type": "code",
   "execution_count": 5,
   "metadata": {},
   "outputs": [
    {
     "name": "stdout",
     "output_type": "stream",
     "text": [
      "['Afghanistan', 'Albania', 'Algeria', 'American Samoa', 'Andorra', 'Angola', 'Anguilla', 'Antigua and Barbuda', 'Argentina', 'Armenia']\n",
      "The total number of countries is 231\n"
     ]
    }
   ],
   "source": [
    "countryCount = countriesRoot.xpath('//country/@name')\n",
    "print(countryCount[:10])\n",
    "print(\"The total number of countries is \" + str(len(countryCount)))"
   ]
  },
  {
   "cell_type": "markdown",
   "metadata": {},
   "source": [
    "<div class=\"exercise\"><b>Exercise 2:</b></div> \n",
    "\n",
    "Find and print the population of Vietnam in the `countries.xml` document.  **Please use an XPath expression to accomplish this task.**\n",
    "\n",
    "The output from my solution is as follows--please mimic the output:\n",
    "\n",
    "<code>\n",
    "The population of Vietnam is 73976976\n",
    "</code>"
   ]
  },
  {
   "cell_type": "code",
   "execution_count": 6,
   "metadata": {},
   "outputs": [
    {
     "name": "stdout",
     "output_type": "stream",
     "text": [
      "The population of Vietnam is 73976976\n"
     ]
    }
   ],
   "source": [
    "VietnamPopulation = countriesRoot.xpath(\"//country[@name='Vietnam']/@population\")\n",
    "print(\"The population of Vietnam is \" + VietnamPopulation[0])"
   ]
  },
  {
   "cell_type": "markdown",
   "metadata": {},
   "source": [
    "<div class=\"exercise\"><b>Exercise 3:</b></div> \n",
    "\n",
    "Write a function `findPop(root, country)` that finds the population of a given country in the data set `countries.xml`. **Use an XPath expression and a format string. Return your answer as an integer.**  In the second code cell below you will test your function, which should display the following output:<br>\n",
    "\n",
    "<code>\n",
    "The population of American Somoa is 59566\n",
    "The population of Vietnam is 73976976\n",
    "</code>"
   ]
  },
  {
   "cell_type": "code",
   "execution_count": 7,
   "metadata": {},
   "outputs": [],
   "source": [
    "def findPop(root, country):\n",
    "    xpath_string = \"\"\"//country[@name='{}']/@population\"\"\".format(country)\n",
    "    pop = root.xpath(xpath_string)\n",
    "    return pop[0]"
   ]
  },
  {
   "cell_type": "markdown",
   "metadata": {},
   "source": [
    "Run the code cell below to test out your function--make sure the output matches mine above."
   ]
  },
  {
   "cell_type": "code",
   "execution_count": 8,
   "metadata": {},
   "outputs": [
    {
     "name": "stdout",
     "output_type": "stream",
     "text": [
      "The population of American Somoa is 59566\n",
      "The population of Vietnam is 73976976\n"
     ]
    }
   ],
   "source": [
    "pop1 = findPop(countriesRoot, \"American Samoa\")\n",
    "pop2 = findPop(countriesRoot, \"Vietnam\")\n",
    "\n",
    "print(\"The population of American Somoa is \" + str(pop1))\n",
    "print(\"The population of Vietnam is \" + str(pop2))"
   ]
  },
  {
   "cell_type": "markdown",
   "metadata": {},
   "source": [
    "<div class=\"exercise\"><b>Exercise 4:</b></div> \n",
    "\n",
    "Find and print the GDP of the USA in 2017 in the `indicators.xml` data set. **Please use an XPath expression to accomplish this task.**\n",
    "\n",
    "The output from my solution is as follows--please mimic the output:\n",
    "\n",
    "<code>\n",
    "The GDP of the USA in 2017 is 19485.4\n",
    "</code>"
   ]
  },
  {
   "cell_type": "code",
   "execution_count": 9,
   "metadata": {},
   "outputs": [
    {
     "name": "stdout",
     "output_type": "stream",
     "text": [
      "The GDP of the USA in 2017 is 19485.4\n"
     ]
    }
   ],
   "source": [
    "gdp = indicatorsRoot.xpath(\"//country[@code='USA']/timedata[@year='2017']/gdp/text()\")\n",
    "print(\"The GDP of the USA in 2017 is \" + gdp[0])"
   ]
  },
  {
   "cell_type": "markdown",
   "metadata": {},
   "source": [
    "<div class=\"exercise\"><b>Exercise 5:</b></div> \n",
    "\n",
    "Write a function `findGdp(root, country, year)` that finds the GDP of a given country (using `code`) in the given year in the `indicators.xml` data set. **Use an XPath expression and a format string. Return your answer as a float.**  In the second code cell below you will test your function, which should produce the following output:<br>\n",
    "\n",
    "<code>\n",
    "The GDP of the USA in 2017 is 19485.4\n",
    "The GDP of China in 2008 is 4594.31\n",
    "</code>"
   ]
  },
  {
   "cell_type": "code",
   "execution_count": 10,
   "metadata": {},
   "outputs": [],
   "source": [
    "def findGdp(root, country, year):\n",
    "    xpath_string = f\"//country[@code='{country}']/timedata[@year='{year}']/gdp/text()\"\n",
    "    gdp = indicatorsRoot.xpath(xpath_string)\n",
    "    return gdp[0]"
   ]
  },
  {
   "cell_type": "markdown",
   "metadata": {},
   "source": [
    "Run the code cell below to test out your function--make sure the output matches mine above."
   ]
  },
  {
   "cell_type": "code",
   "execution_count": 11,
   "metadata": {},
   "outputs": [
    {
     "name": "stdout",
     "output_type": "stream",
     "text": [
      "The GDP of the USA in 2017 is 19485.4\n",
      "The GDP of China in 2008 is 4594.31\n"
     ]
    }
   ],
   "source": [
    "gdp1 = findGdp(indicatorsRoot, \"USA\", 2017)\n",
    "gdp2 = findGdp(indicatorsRoot, \"CHN\", 2008)\n",
    "\n",
    "print(\"The GDP of the USA in 2017 is \" + str(gdp1))\n",
    "print(\"The GDP of China in 2008 is \" + str(gdp2))"
   ]
  },
  {
   "cell_type": "markdown",
   "metadata": {},
   "source": [
    "<div class=\"exercise\"><b>Exercise 6:</b></div> \n",
    "\n",
    "Create and print a list of all course titles in the `school` data set where the course number is 401. **Please use an XPath expression to accomplish this task.**\n",
    "\n",
    "The output from my solution is as follows:\n",
    "\n",
    "<code>\n",
    "['Visual Arts Practicum', 'Advanced Biochemistry', 'Advanced Biochemistry', 'Communicating to Inspire', 'Hist of Economic Thought I', 'Environmental Senior Project', 'Senior Recital', 'Sr Sem: Politics of Oil']\n",
    "</code>"
   ]
  },
  {
   "cell_type": "code",
   "execution_count": 12,
   "metadata": {},
   "outputs": [
    {
     "name": "stdout",
     "output_type": "stream",
     "text": [
      "['Visual Arts Practicum', 'Advanced Biochemistry', 'Advanced Biochemistry', 'Communicating to Inspire', 'Hist of Economic Thought I', 'Environmental Senior Project', 'Senior Recital', 'Sr Sem: Politics of Oil']\n"
     ]
    }
   ],
   "source": [
    "title = schoolRoot.xpath('//course[@num=\"401\"]/title/text()')\n",
    "print(title)"
   ]
  },
  {
   "cell_type": "markdown",
   "metadata": {},
   "source": [
    "<div class=\"exercise\"><b>Exercise 7:</b></div> \n",
    "\n",
    "With reference to the `topnames` data set, create and print a list that contains all the top female names that start with an “E”--duplicates are fine.  **Please use an XPath expression to accomplish this task.**\n",
    "\n",
    "The output from my solution is as follows:\n",
    "\n",
    "<code>\n",
    "['Emily', 'Emily', 'Emily', 'Emily', 'Emily', 'Emily', 'Emily', 'Emily', 'Emily', 'Emily', 'Emily', 'Emily', 'Emma', 'Emma', 'Emma', 'Emma', 'Emma', 'Emma']\n",
    "</code>"
   ]
  },
  {
   "cell_type": "code",
   "execution_count": 13,
   "metadata": {},
   "outputs": [
    {
     "name": "stdout",
     "output_type": "stream",
     "text": [
      "['Emily', 'Emily', 'Emily', 'Emily', 'Emily', 'Emily', 'Emily', 'Emily', 'Emily', 'Emily', 'Emily', 'Emily', 'Emma', 'Emma', 'Emma', 'Emma', 'Emma', 'Emma']\n"
     ]
    }
   ],
   "source": [
    "female_E = topNamesRoot.xpath('//year/sex[@value =\"Female\"]/name[starts-with(text(), \"E\")]/text()')\n",
    "print(female_E)"
   ]
  },
  {
   "cell_type": "markdown",
   "metadata": {},
   "source": [
    "<div class=\"exercise\"><b>Exercise 8:</b></div> \n",
    "\n",
    "With reference to the `topnames` data set, please find all **years** where the top female name started with an “E” **and** the count was strictly larger than 20,000. **Please use an XPath expression to accomplish this task.**\n",
    "\n",
    "The output from my solution is as follows:\n",
    "\n",
    "<code>\n",
    "['1996', '1997', '1998', '1999', '2000', '2001', '2002', '2003', '2004', '2005', '2006', '2014', '2015']\n",
    "</code>"
   ]
  },
  {
   "cell_type": "code",
   "execution_count": 14,
   "metadata": {},
   "outputs": [
    {
     "name": "stdout",
     "output_type": "stream",
     "text": [
      "['1996', '1997', '1998', '1999', '2000', '2001', '2002', '2003', '2004', '2005', '2006', '2014', '2015']\n"
     ]
    }
   ],
   "source": [
    "year_filter = topNamesRoot.xpath('//year[sex[@value=\"Female\"]/name[starts-with(text(), \"E\")]/../count[text() > 20000]]/@value')\n",
    "print(year_filter)"
   ]
  },
  {
   "cell_type": "markdown",
   "metadata": {},
   "source": [
    "<div class=\"exercise\"><b>Exercise 9:</b></div> \n",
    "\n",
    "With reference to the `school` data set, create and print a list of courses that meet at `10:30-11:20 MWF` during the Fall semester.  **Please use an XPath expression to accomplish this task.**\n",
    "\n",
    "The output from my solution is as follows:\n",
    "\n",
    "<code>\n",
    "['Intro Science of Biology', 'Ecology and Evolution', 'Genetics', 'Demography of Africa', 'Organic Chemistry I', 'Analytical Chemistry', 'Film Aesthetics/Analysis', 'Public Address', 'Theories/Interperson Comm', 'Communication Law', 'Intro Microeconomics', 'Intermediate Microecon', 'Early British Literature', 'Lyric Poetry', 'Words and Ideas', 'Communities of Hate', 'Structural Geology', 'The Origins of Europe', 'Late Antiquity', \"Ovid's Metamophoses\", 'Intro to Music: Jazz', 'Music Theory III', 'General Physics I', 'Urban Politics', 'Intro to Psychology', 'Health Psychology', 'Ethics, Soc & Moral Self', 'Hinduism', 'Lit of Latin America']\n",
    "</code>"
   ]
  },
  {
   "cell_type": "code",
   "execution_count": 24,
   "metadata": {},
   "outputs": [
    {
     "name": "stdout",
     "output_type": "stream",
     "text": [
      "['Intro Science of Biology', 'Ecology and Evolution', 'Genetics', 'Demography of Africa', 'Organic Chemistry I', 'Analytical Chemistry', 'Film Aesthetics/Analysis', 'Public Address', 'Theories/Interperson Comm', 'Communication Law', 'Intro Microeconomics', 'Intermediate Microecon', 'Early British Literature', 'Lyric Poetry', 'Words and Ideas', 'Communities of Hate', 'Structural Geology', 'The Origins of Europe', 'Late Antiquity', \"Ovid's Metamophoses\", 'Intro to Music: Jazz', 'Music Theory III', 'General Physics I', 'Urban Politics', 'Intro to Psychology', 'Health Psychology', 'Ethics, Soc & Moral Self', 'Hinduism', 'Lit of Latin America']\n"
     ]
    }
   ],
   "source": [
    "course_filter = schoolRoot.xpath('/school/courses/course/class/meeting[contains(text(), \"10:30-11:20 MWF\")]/../term[contains(text(), \"FALL\")]/../../title/text()')\n",
    "print(course_filter)"
   ]
  },
  {
   "cell_type": "markdown",
   "metadata": {},
   "source": [
    "<div class=\"exercise\"><b>Exercise 10:</b></div> \n",
    "\n",
    "With reference to the `school` data set, create and print a list of courses that meet `10:30-11:20 MWF` during the Fall semester **or** the subject is “CS” (which could be in either semester and any time slot). **Hint:** Break it into two separate queries, and use the `|` to get all entries matching either of them.  **Please use a single XPath expression to accomplish this task (do not combine lists using Python!).**\n",
    "\n",
    "The output from my solution is as follows:\n",
    "\n",
    "<code>\n",
    "['Intro Science of Biology', 'Ecology and Evolution', 'Genetics', 'Demography of Africa', 'Organic Chemistry I', 'Analytical Chemistry', 'Film Aesthetics/Analysis', 'Public Address', 'Theories/Interperson Comm', 'Communication Law', 'Computing/Digital Media', 'Computing for Scientific Disc', 'Intermediate Computer Science', 'Discrete Math for CS', 'Technical Comm I', 'Data Structures', 'Elementary Graph Theory', 'Computer Organization', 'Theory of Computation', 'Directed Study', 'Directed Study', 'Independent Study', 'Independent Study', 'Operating Systems', 'Programming Languages', 'Senior Research', 'Senior Research', 'Intro Microeconomics', 'Intermediate Microecon', 'Early British Literature', 'Lyric Poetry', 'Words and Ideas', 'Communities of Hate', 'Structural Geology', 'The Origins of Europe', 'Late Antiquity', \"Ovid's Metamophoses\", 'Intro to Music: Jazz', 'Music Theory III', 'General Physics I', 'Urban Politics', 'Intro to Psychology', 'Health Psychology', 'Ethics, Soc & Moral Self', 'Hinduism', 'Lit of Latin America']\n",
    "</code>"
   ]
  },
  {
   "cell_type": "code",
   "execution_count": 26,
   "metadata": {},
   "outputs": [
    {
     "name": "stdout",
     "output_type": "stream",
     "text": [
      "['Intro Science of Biology', 'Ecology and Evolution', 'Genetics', 'Demography of Africa', 'Organic Chemistry I', 'Analytical Chemistry', 'Film Aesthetics/Analysis', 'Public Address', 'Theories/Interperson Comm', 'Communication Law', 'Computing/Digital Media', 'Computing for Scientific Disc', 'Intermediate Computer Science', 'Discrete Math for CS', 'Technical Comm I', 'Data Structures', 'Elementary Graph Theory', 'Computer Organization', 'Theory of Computation', 'Directed Study', 'Directed Study', 'Independent Study', 'Independent Study', 'Operating Systems', 'Programming Languages', 'Senior Research', 'Senior Research', 'Intro Microeconomics', 'Intermediate Microecon', 'Early British Literature', 'Lyric Poetry', 'Words and Ideas', 'Communities of Hate', 'Structural Geology', 'The Origins of Europe', 'Late Antiquity', \"Ovid's Metamophoses\", 'Intro to Music: Jazz', 'Music Theory III', 'General Physics I', 'Urban Politics', 'Intro to Psychology', 'Health Psychology', 'Ethics, Soc & Moral Self', 'Hinduism', 'Lit of Latin America']\n"
     ]
    }
   ],
   "source": [
    "CS_filter = schoolRoot.xpath('/school/courses/course/class/meeting[contains(text(), \"10:30-11:20 MWF\")]/../term[contains(text(), \"FALL\")]/../../title/text() | /school/courses/course[@subject = \"CS\"]/title/text()')\n",
    "print(CS_filter)"
   ]
  }
 ],
 "metadata": {
  "celltoolbar": "Raw Cell Format",
  "kernelspec": {
   "display_name": "Python 3 (ipykernel)",
   "language": "python",
   "name": "python3"
  },
  "language_info": {
   "codemirror_mode": {
    "name": "ipython",
    "version": 3
   },
   "file_extension": ".py",
   "mimetype": "text/x-python",
   "name": "python",
   "nbconvert_exporter": "python",
   "pygments_lexer": "ipython3",
   "version": "3.12.7"
  }
 },
 "nbformat": 4,
 "nbformat_minor": 4
}
