{
 "cells": [
  {
   "cell_type": "markdown",
   "metadata": {},
   "source": [
    "# Data 200: Data Systems for Data Analytics (Spring 2025)"
   ]
  },
  {
   "cell_type": "markdown",
   "metadata": {},
   "source": [
    "# Homework 11: Wrangling JSON and XML Files\n",
    "\n",
    "<font color='red'>**Due Date and Time:** 11:59pm on Monday, 4/14/2024 </font>\n",
    "---\n",
    "Enter your name in the markdown cell below."
   ]
  },
  {
   "cell_type": "markdown",
   "metadata": {},
   "source": [
    "# Name: Thao "
   ]
  },
  {
   "cell_type": "code",
   "execution_count": 2,
   "metadata": {},
   "outputs": [
    {
     "data": {
      "text/html": [
       "<style>\n",
       "blockquote { background: #AEDE94; }\n",
       "h1 { \n",
       "    padding-top: 25px;\n",
       "    padding-bottom: 25px;\n",
       "    text-align: left; \n",
       "    padding-left: 10px;\n",
       "    background-color: #DDDDDD; \n",
       "    color: black;\n",
       "}\n",
       "h2 { \n",
       "    padding-top: 10px;\n",
       "    padding-bottom: 10px;\n",
       "    text-align: left; \n",
       "    padding-left: 5px;\n",
       "    background-color: #EEEEEE; \n",
       "    color: black;\n",
       "}\n",
       "\n",
       "div.exercise {\n",
       "\tbackground-color: #ffcccc;\n",
       "\tborder-color: #E9967A; \t\n",
       "\tborder-left: 5px solid #800080; \n",
       "\tpadding: 0.5em;\n",
       "}\n",
       "\n",
       "div.exercise-r {\n",
       "\tbackground-color: #fce8e8;\n",
       "\tborder-color: #E9967A; \t\n",
       "\tborder-left: 5px solid #800080; \n",
       "\tpadding: 0.5em;\n",
       "}\n",
       "\n",
       "\n",
       "span.sub-q {\n",
       "\tfont-weight: bold;\n",
       "}\n",
       "div.theme {\n",
       "\tbackground-color: #DDDDDD;\n",
       "\tborder-color: #E9967A; \t\n",
       "\tborder-left: 5px solid #800080; \n",
       "\tpadding: 0.5em;\n",
       "\tfont-size: 18pt;\n",
       "}\n",
       "div.gc { \n",
       "\tbackground-color: #AEDE94;\n",
       "\tborder-color: #E9967A; \t \n",
       "\tborder-left: 5px solid #800080; \n",
       "\tpadding: 0.5em;\n",
       "\tfont-size: 12pt;\n",
       "}\n",
       "p.q1 { \n",
       "    padding-top: 5px;\n",
       "    padding-bottom: 5px;\n",
       "    text-align: left; \n",
       "    padding-left: 5px;\n",
       "    background-color: #EEEEEE; \n",
       "    color: black;\n",
       "}\n",
       "header {\n",
       "   padding-top: 35px;\n",
       "    padding-bottom: 35px;\n",
       "    text-align: left; \n",
       "    padding-left: 10px;\n",
       "    background-color: #DDDDDD; \n",
       "    color: black;\n",
       "}\n",
       "</style>\n",
       "\n"
      ],
      "text/plain": [
       "<IPython.core.display.HTML object>"
      ]
     },
     "execution_count": 2,
     "metadata": {},
     "output_type": "execute_result"
    }
   ],
   "source": [
    "## RUN THIS CELL TO GET THE RIGHT FORMATTING AND TO LOAD NumPy\n",
    "import requests\n",
    "import numpy as np\n",
    "from IPython.core.display import HTML\n",
    "styles = requests.get(\"https://raw.githubusercontent.com/Harvard-IACS/2018-CS109A/master/content/styles/cs109.css\").text\n",
    "HTML(styles)"
   ]
  },
  {
   "cell_type": "markdown",
   "metadata": {},
   "source": [
    "# Tasks\n",
    "\n",
    "- Review pages 304-319 in the Course Notes.\n",
    "- Complete the **Creating and Manipulating Your Own Databases** and **Putting it all Together** chapters of the **Introduction to Databases in Python** course on DataCamp.\n",
    "- OPTIONAL: **Creating Plots on Data Aware Grids** chapter of the **Intermediate Data Visualization with Seaborn** course on DataCamp.\n",
    "- Submit your completed Jupyter notebook on Moodle."
   ]
  },
  {
   "cell_type": "markdown",
   "metadata": {},
   "source": [
    "# Exercises"
   ]
  },
  {
   "cell_type": "markdown",
   "metadata": {},
   "source": [
    "**Run the code cell below to import the libraries we will use in this homework, and to set the data directory.**"
   ]
  },
  {
   "cell_type": "code",
   "execution_count": 3,
   "metadata": {},
   "outputs": [],
   "source": [
    "import os.path\n",
    "from lxml import etree\n",
    "import json\n",
    "import pandas as pd\n",
    "import util\n",
    "\n",
    "datadir=\"hw11Data\""
   ]
  },
  {
   "cell_type": "markdown",
   "metadata": {},
   "source": [
    "# Processing JSON Files"
   ]
  },
  {
   "cell_type": "markdown",
   "metadata": {},
   "source": [
    "<div class=\"exercise\"><b>Exercise 1:</b></div> \n",
    "\n",
    "Open the `electronics.json` file (which is in the `hw11Data` directory) using a **text editor** and inspect the file to understand its structure."
   ]
  },
  {
   "cell_type": "markdown",
   "metadata": {},
   "source": [
    "The code cell below contains Python code to do the following:\n",
    "\n",
    "- Reads in the JSON-formatted data from the `electronics.json` file and generates a dictionary called `elec` that contains the parsed data.\n",
    "- Uses the utility function `util.print_data()` to print the data structure.\n",
    "\n",
    "**Study and run the code cell below.**"
   ]
  },
  {
   "cell_type": "code",
   "execution_count": 4,
   "metadata": {},
   "outputs": [
    {
     "name": "stdout",
     "output_type": "stream",
     "text": [
      "{\n",
      "  \"product_name\": [\n",
      "    \"Laptop\",\n",
      "    \"Smartphone\",\n",
      "    \"Tablet\"\n",
      "  ],\n",
      "  \"brand\": [\n",
      "    \"Dell\",\n",
      "    \"Samsung\",\n",
      "    \"Apple\"\n",
      "  ],\n",
      "  \"price\": [\n",
      "    1200,\n",
      "    800,\n",
      "    600\n",
      "  ],\n",
      "  \"specifications\": [\n",
      "    {\n",
      "      \"processor\": \"Intel i7\",\n",
      "      \"RAM\": \"16GB\",\n",
      "      \"storage\": \"512GB SSD\"\n",
      "    },\n",
      "    {\n",
      "      \"processor\": \"Snapdragon 888\",\n",
      "      \"RAM\": \"8GB\",\n",
      "      \"storage\": \"256GB\"\n",
      "    },\n",
      "    {\n",
      "      \"processor\": \"Apple A14 Bionic\",\n",
      "      \"RAM\": \"6GB\",\n",
      "      \"storage\": \"128GB\"\n",
      "    }\n",
      "  ]\n",
      "}\n"
     ]
    }
   ],
   "source": [
    "# Import the JSON file and assign it to elec\n",
    "jsonFile = os.path.join(datadir, \"electronics.json\")\n",
    "\n",
    "with open(jsonFile) as file:\n",
    "    elec = json.load(file)\n",
    "\n",
    "# Use the print_data() function of the util module to print the elec dictionary\n",
    "util.print_data(elec)"
   ]
  },
  {
   "cell_type": "markdown",
   "metadata": {},
   "source": [
    "<div class=\"exercise\"><b>Exercise 2:</b></div> \n",
    "\n",
    "Write code to convert the `elec` dictionary into a data frame called `elecDF` by passing in `elec` to the `pd.DataFrame()` function. Here is the expected output:\n",
    "\n",
    "<code>\n",
    "  product_name    brand  price  \\\n",
    "0       Laptop     Dell   1200   \n",
    "1   Smartphone  Samsung    800   \n",
    "2       Tablet    Apple    600   \n",
    "</code>\n",
    "<code>\n",
    "                                      specifications  \n",
    "0  {'processor': 'Intel i7', 'RAM': '16GB', 'stor...  \n",
    "1  {'processor': 'Snapdragon 888', 'RAM': '8GB', ...  \n",
    "2  {'processor': 'Apple A14 Bionic', 'RAM': '6GB'...  \n",
    "</code>"
   ]
  },
  {
   "cell_type": "code",
   "execution_count": 5,
   "metadata": {},
   "outputs": [
    {
     "name": "stdout",
     "output_type": "stream",
     "text": [
      "  product_name    brand  price  \\\n",
      "0       Laptop     Dell   1200   \n",
      "1   Smartphone  Samsung    800   \n",
      "2       Tablet    Apple    600   \n",
      "\n",
      "                                      specifications  \n",
      "0  {'processor': 'Intel i7', 'RAM': '16GB', 'stor...  \n",
      "1  {'processor': 'Snapdragon 888', 'RAM': '8GB', ...  \n",
      "2  {'processor': 'Apple A14 Bionic', 'RAM': '6GB'...  \n"
     ]
    }
   ],
   "source": [
    "elecDF = pd.DataFrame(elec)\n",
    "print(elecDF)"
   ]
  },
  {
   "cell_type": "markdown",
   "metadata": {},
   "source": [
    "<div class=\"exercise\"><b>Exercise 3:</b></div> \n",
    "\n",
    "Obviously the data frame `elecDF` that we created in Exercise 2 is not what we wanted. This occured because the `specifications` column contains dictionaries. To fix this we need to *flatten* the `specifications` column using the `json.normalize()` function.\n",
    "\n",
    "Carefully read pages 307-308 in the Course Notes and then flatten the `specifications` column in `elecDF`. Be sure to delete the `specifications` column after it has been flattened because we no longer need it.  Please print the new `elecDF` data frame.\n",
    "\n",
    "The expected output is:\n",
    "\n",
    "<code>\n",
    "  product_name    brand  price         processor   RAM    storage\n",
    "0       Laptop     Dell   1200          Intel i7  16GB  512GB SSD\n",
    "1   Smartphone  Samsung    800    Snapdragon 888   8GB      256GB\n",
    "2       Tablet    Apple    600  Apple A14 Bionic   6GB      128GB\n",
    "</code>"
   ]
  },
  {
   "cell_type": "code",
   "execution_count": 6,
   "metadata": {},
   "outputs": [
    {
     "name": "stdout",
     "output_type": "stream",
     "text": [
      "  product_name    brand  price         processor   RAM    storage\n",
      "0       Laptop     Dell   1200          Intel i7  16GB  512GB SSD\n",
      "1   Smartphone  Samsung    800    Snapdragon 888   8GB      256GB\n",
      "2       Tablet    Apple    600  Apple A14 Bionic   6GB      128GB\n"
     ]
    }
   ],
   "source": [
    "specification_df = pd.json_normalize(elecDF['specifications'])\n",
    "elecDF = pd.concat([elecDF, specification_df], axis=1)\n",
    "elecDF = elecDF.drop('specifications', axis=1)\n",
    "print(elecDF)"
   ]
  },
  {
   "cell_type": "markdown",
   "metadata": {},
   "source": [
    "<div class=\"exercise\"><b>Exercise 4:</b></div> \n",
    "\n",
    "- Open the `fruit.json` file (which is in the `hw11Data` directory) using a **text editor** and inspect the file to understand its structure.\n",
    "- In the code cell below, write code to read in the `fruit.json` file and generates a dictionary called `fruit` that contains the parsed data. *You might want to review the code in Exercise 1 to see how to do this.*\n",
    "- Use the utility function to print the first 13 lines of the data structure: `util.print_data(fruit, nlines=13)`\n",
    "\n",
    "The expected out is:\n",
    "<code>\n",
    "{\n",
    "  \"fruit1\": {\n",
    "    \"fruit\": \"Apple\",\n",
    "    \"color\": \"Red\",\n",
    "    \"weight\": 0.2,\n",
    "    \"price\": 1.5\n",
    "  },\n",
    "  \"fruit2\": {\n",
    "    \"fruit\": \"Banana\",\n",
    "    \"color\": \"Yellow\",\n",
    "    \"weight\": 0.15,\n",
    "    \"price\": 0.5\n",
    "  },\n",
    " </code>"
   ]
  },
  {
   "cell_type": "code",
   "execution_count": 10,
   "metadata": {},
   "outputs": [
    {
     "name": "stdout",
     "output_type": "stream",
     "text": [
      "{\n",
      "  \"fruit1\": {\n",
      "    \"fruit\": \"Apple\",\n",
      "    \"color\": \"Red\",\n",
      "    \"weight\": 0.2,\n",
      "    \"price\": 1.5\n",
      "  },\n",
      "  \"fruit2\": {\n",
      "    \"fruit\": \"Banana\",\n",
      "    \"color\": \"Yellow\",\n",
      "    \"weight\": 0.15,\n",
      "    \"price\": 0.5\n",
      "  },\n"
     ]
    }
   ],
   "source": [
    "jsonFile = os.path.join(datadir, \"fruit.json\")\n",
    "with open(jsonFile) as file:\n",
    "    fruit = json.load(file)\n",
    "util.print_data(fruit, nlines = 13)"
   ]
  },
  {
   "cell_type": "markdown",
   "metadata": {},
   "source": [
    "<div class=\"exercise\"><b>Exercise 5:</b></div> \n",
    "\n",
    "Carefully review pages 309-310 of the Course Notes and then convert the `fruit` dictionary into a data frame called `fruitDF` that is *tidy*.  Print `fruitDF`, which should give the following result:\n",
    "\n",
    "The expected out is:\n",
    "<code>\n",
    "            fruit   color weight price\n",
    "fruit1      Apple     Red    0.2   1.5\n",
    "fruit2     Banana  Yellow   0.15   0.5\n",
    "fruit3     Orange  Orange   0.25   2.0\n",
    "fruit4      Grape  Purple   0.05   3.0\n",
    "fruit5       Kiwi   Brown    0.1   2.5\n",
    "fruit6  Pineapple  Yellow    1.5   4.0\n",
    " </code>"
   ]
  },
  {
   "cell_type": "code",
   "execution_count": 36,
   "metadata": {},
   "outputs": [
    {
     "name": "stdout",
     "output_type": "stream",
     "text": [
      "            fruit   color weight price\n",
      "fruit1      Apple     Red    0.2   1.5\n",
      "fruit2     Banana  Yellow   0.15   0.5\n",
      "fruit3     Orange  Orange   0.25   2.0\n",
      "fruit4      Grape  Purple   0.05   3.0\n",
      "fruit5       Kiwi   Brown    0.1   2.5\n",
      "fruit6  Pineapple  Yellow    1.5   4.0\n"
     ]
    }
   ],
   "source": [
    "fruitDF = pd.DataFrame(fruit).transpose()\n",
    "print(fruitDF)"
   ]
  },
  {
   "cell_type": "markdown",
   "metadata": {},
   "source": [
    "# Processing XML Files"
   ]
  },
  {
   "cell_type": "markdown",
   "metadata": {},
   "source": [
    "<div class=\"exercise\"><b>Exercise 6:</b></div> \n",
    "\n",
    "Open the `breakfast.xml` file (which is in the `hw11Data` directory) using a **text editor** and inspect the file to understand its structure."
   ]
  },
  {
   "cell_type": "markdown",
   "metadata": {},
   "source": [
    "In the code cell below, we define a function `getLocalXML(filename, datadir)` that performs the common steps of creating a path from the given `filename` and `datadir` and parses the XML file.  The function returns the `Element` at the root of the tree.  If the file is not found, or the parse is unsuccessful (due to the XML not being \"well-formed\"), the function returns `None`.\n",
    "\n",
    "**Please study and run the code cell below.**"
   ]
  },
  {
   "cell_type": "code",
   "execution_count": 12,
   "metadata": {},
   "outputs": [],
   "source": [
    "def getLocalXML(filename, datadir=\".\"):\n",
    "    # Set the data directory\n",
    "    xmlPath = os.path.join(datadir, filename)\n",
    "    \n",
    "    try:\n",
    "        tree = etree.parse(xmlPath)   # Use the standard parser\n",
    "        root = tree.getroot()\n",
    "        return root\n",
    "    except:\n",
    "        print(\"Exception in parsing XML\")\n",
    "        return None"
   ]
  },
  {
   "cell_type": "markdown",
   "metadata": {},
   "source": [
    "**Now run the code cell below to load the `breakfast.xml` file and assign the root of the tree to `bRoot`.**"
   ]
  },
  {
   "cell_type": "code",
   "execution_count": 13,
   "metadata": {},
   "outputs": [],
   "source": [
    "bRoot = getLocalXML(\"breakfast.xml\", datadir)"
   ]
  },
  {
   "cell_type": "markdown",
   "metadata": {},
   "source": [
    "<div class=\"exercise\"><b>Exercise 7:</b></div> \n",
    "\n",
    "Review page 314 in the Coures Notes and then use a for-loop to print out all the attributes of the children of the root `bRoot`.\n",
    "\n",
    "Below is the output from my solution.\n",
    "\n",
    "<code>\n",
    "{'price': '5.95', 'calories': '650'}\n",
    "{'price': '7.95', 'calories': '900'}\n",
    "{'price': '8.95', 'calories': '900'}\n",
    "{'price': '4.5', 'calories': '600'}\n",
    "{'price': '6.95', 'calories': '950'}\n",
    "</code>"
   ]
  },
  {
   "cell_type": "code",
   "execution_count": 30,
   "metadata": {},
   "outputs": [
    {
     "name": "stdout",
     "output_type": "stream",
     "text": [
      "{'price': '5.95', 'calories': '650'}\n",
      "{'price': '7.95', 'calories': '900'}\n",
      "{'price': '8.95', 'calories': '900'}\n",
      "{'price': '4.5', 'calories': '600'}\n",
      "{'price': '6.95', 'calories': '950'}\n"
     ]
    }
   ],
   "source": [
    "for child in bRoot:\n",
    "    print(child.attrib)"
   ]
  },
  {
   "cell_type": "markdown",
   "metadata": {},
   "source": [
    "<div class=\"exercise\"><b>Exercise 8:</b></div> \n",
    "\n",
    "We would like to create a Python list called `food_list` that contains all the names of the food in the Breakfast data set.  To accomplish this, you should use a for-loop over all the children of the root `bRoot` and use the `.find()` method to find the tag `'name'`, and then use `.append()` to append the item to the list.  After the list has been completed, use `print(food_list)` to print the list.  *I suggest that you review page 314 of the Course Notes.*\n",
    "\n",
    "Below is the output from my solution.\n",
    "\n",
    "<code>\n",
    "['Belgian Waffles', 'Strawberry Belgian Waffles', 'Berry-Berry Belgian Waffles', 'French Toast', 'Homestyle Breakfast']\n",
    "</code>"
   ]
  },
  {
   "cell_type": "code",
   "execution_count": 31,
   "metadata": {},
   "outputs": [
    {
     "name": "stdout",
     "output_type": "stream",
     "text": [
      "['Belgian Waffles', 'Strawberry Belgian Waffles', 'Berry-Berry Belgian Waffles', 'French Toast', 'Homestyle Breakfast']\n"
     ]
    }
   ],
   "source": [
    "food_list = []\n",
    "for child in bRoot:\n",
    "    name = child.find('name').text\n",
    "    food_list.append(name)\n",
    "print(food_list)"
   ]
  },
  {
   "cell_type": "markdown",
   "metadata": {},
   "source": [
    "<div class=\"exercise\"><b>Exercise 9:</b></div> \n",
    "\n",
    "We would like to create a data frame `df_breakfast` of the Breakfast data (without the `description`).  To accomplish this, create a list of dictionaries (LoD) that contains a dictionary for each of the food items.  Set the index of the data frame to be the names of the food (using `df_breakfast.set_index(['name'], inplace=True)`).  Finally, print the data frame.  *You may want to review page 315 of the Course Notes.*\n",
    "\n",
    "Below is the output from my solution.\n",
    "\n",
    "<code>\n",
    "                            price calories\n",
    "name                                      \n",
    "Belgian Waffles              5.95      650\n",
    "Strawberry Belgian Waffles   7.95      900\n",
    "Berry-Berry Belgian Waffles  8.95      900\n",
    "French Toast                  4.5      600\n",
    "Homestyle Breakfast          6.95      950\n",
    "</code>"
   ]
  },
  {
   "cell_type": "code",
   "execution_count": 35,
   "metadata": {},
   "outputs": [
    {
     "name": "stdout",
     "output_type": "stream",
     "text": [
      "                            price calories\n",
      "name                                      \n",
      "Belgian Waffles              5.95      650\n",
      "Strawberry Belgian Waffles   7.95      900\n",
      "Berry-Berry Belgian Waffles  8.95      900\n",
      "French Toast                  4.5      600\n",
      "Homestyle Breakfast          6.95      950\n"
     ]
    }
   ],
   "source": [
    "LOD = []\n",
    "\n",
    "for child in bRoot:\n",
    "    price = child.get('price')\n",
    "    calories = child.get('calories')\n",
    "    name = child.find('name').text\n",
    "\n",
    "    row = {'price': price, 'calories': calories, 'name': name}\n",
    "    LOD.append(row)\n",
    "\n",
    "df_breakfast = pd.DataFrame(LOD)\n",
    "df_breakfast.set_index('name', inplace = True)\n",
    "print(df_breakfast)"
   ]
  }
 ],
 "metadata": {
  "celltoolbar": "Raw Cell Format",
  "kernelspec": {
   "display_name": "Python 3 (ipykernel)",
   "language": "python",
   "name": "python3"
  },
  "language_info": {
   "codemirror_mode": {
    "name": "ipython",
    "version": 3
   },
   "file_extension": ".py",
   "mimetype": "text/x-python",
   "name": "python",
   "nbconvert_exporter": "python",
   "pygments_lexer": "ipython3",
   "version": "3.12.7"
  }
 },
 "nbformat": 4,
 "nbformat_minor": 4
}
